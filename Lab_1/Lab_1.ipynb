{
 "nbformat": 4,
 "nbformat_minor": 0,
 "metadata": {
  "colab": {
   "provenance": []
  },
  "kernelspec": {
   "name": "python3",
   "display_name": "Python 3 (ipykernel)",
   "language": "python"
  }
 },
 "cells": [
  {
   "cell_type": "markdown",
   "metadata": {
    "id": "82OvPKEiEqjc"
   },
   "source": [
    "# Введение в MapReduce модель на Python\n"
   ]
  },
  {
   "cell_type": "code",
   "metadata": {
    "id": "JQ2cvXLjICmI",
    "ExecuteTime": {
     "end_time": "2024-05-17T12:42:59.199345Z",
     "start_time": "2024-05-17T12:42:59.194323Z"
    }
   },
   "source": [
    "from typing import NamedTuple # requires python 3.6+\n",
    "from typing import Iterator"
   ],
   "outputs": [],
   "execution_count": 93
  },
  {
   "cell_type": "code",
   "metadata": {
    "id": "yjPHumVwEyEg",
    "ExecuteTime": {
     "end_time": "2024-05-17T12:42:59.599553Z",
     "start_time": "2024-05-17T12:42:59.595529Z"
    }
   },
   "source": [
    "def MAP(_, row:NamedTuple):\n",
    "  if (row.gender == 'female'):\n",
    "    yield (row.age, row)\n",
    "\n",
    "def REDUCE(age:str, rows:Iterator[NamedTuple]):\n",
    "  sum = 0\n",
    "  count = 0\n",
    "  for row in rows:\n",
    "    sum += row.social_contacts\n",
    "    count += 1\n",
    "  if (count > 0):\n",
    "    yield (age, sum/count)\n",
    "  else:\n",
    "    yield (age, 0)"
   ],
   "outputs": [],
   "execution_count": 94
  },
  {
   "cell_type": "markdown",
   "metadata": {
    "id": "vBKMgpG_ilaZ"
   },
   "source": [
    "Модель элемента данных"
   ]
  },
  {
   "cell_type": "code",
   "metadata": {
    "id": "Rv-XIjhTJPx3",
    "ExecuteTime": {
     "end_time": "2024-05-17T12:42:59.618590Z",
     "start_time": "2024-05-17T12:42:59.605421Z"
    }
   },
   "source": [
    "class User(NamedTuple):\n",
    "  id: int\n",
    "  age: str\n",
    "  social_contacts: int\n",
    "  gender: str"
   ],
   "outputs": [],
   "execution_count": 95
  },
  {
   "cell_type": "code",
   "metadata": {
    "id": "5KV0Ze2vQgu5",
    "ExecuteTime": {
     "end_time": "2024-05-17T12:42:59.639530Z",
     "start_time": "2024-05-17T12:42:59.634221Z"
    }
   },
   "source": [
    "input_collection = [\n",
    "    User(id=0, age=55, gender='male', social_contacts=20),\n",
    "    User(id=1, age=25, gender='female', social_contacts=240),\n",
    "    User(id=2, age=25, gender='female', social_contacts=500),\n",
    "    User(id=3, age=33, gender='female', social_contacts=800)\n",
    "]"
   ],
   "outputs": [],
   "execution_count": 96
  },
  {
   "cell_type": "markdown",
   "metadata": {
    "id": "YFeqzyZxZIFZ"
   },
   "source": [
    "Функция RECORDREADER моделирует чтение элементов с диска или по сети."
   ]
  },
  {
   "cell_type": "code",
   "metadata": {
    "id": "S5HR4E_GQoMJ",
    "ExecuteTime": {
     "end_time": "2024-05-17T12:42:59.727126Z",
     "start_time": "2024-05-17T12:42:59.722386Z"
    }
   },
   "source": [
    "def RECORDREADER():\n",
    "  return [(u.id, u) for u in input_collection]"
   ],
   "outputs": [],
   "execution_count": 97
  },
  {
   "cell_type": "code",
   "metadata": {
    "id": "NeEoWla-ROUy",
    "colab": {
     "base_uri": "https://localhost:8080/",
     "height": 85
    },
    "outputId": "94ca6e0e-4644-4282-acbf-1759d7ba2918",
    "ExecuteTime": {
     "end_time": "2024-05-17T12:42:59.793878Z",
     "start_time": "2024-05-17T12:42:59.788218Z"
    }
   },
   "source": [
    "list(RECORDREADER())"
   ],
   "outputs": [
    {
     "data": {
      "text/plain": [
       "[(0, User(id=0, age=55, social_contacts=20, gender='male')),\n",
       " (1, User(id=1, age=25, social_contacts=240, gender='female')),\n",
       " (2, User(id=2, age=25, social_contacts=500, gender='female')),\n",
       " (3, User(id=3, age=33, social_contacts=800, gender='female'))]"
      ]
     },
     "execution_count": 98,
     "metadata": {},
     "output_type": "execute_result"
    }
   ],
   "execution_count": 98
  },
  {
   "cell_type": "code",
   "metadata": {
    "id": "YB8orgPSZs8M",
    "ExecuteTime": {
     "end_time": "2024-05-17T12:42:59.876698Z",
     "start_time": "2024-05-17T12:42:59.872220Z"
    }
   },
   "source": [
    "def flatten(nested_iterable):\n",
    "  for iterable in nested_iterable:\n",
    "    for element in iterable:\n",
    "      yield element"
   ],
   "outputs": [],
   "execution_count": 99
  },
  {
   "cell_type": "code",
   "metadata": {
    "id": "74oyvDLaRmd5",
    "colab": {
     "base_uri": "https://localhost:8080/",
     "height": 68
    },
    "outputId": "c6147702-7153-47c7-a574-d5fe6abe29a8",
    "ExecuteTime": {
     "end_time": "2024-05-17T12:42:59.897326Z",
     "start_time": "2024-05-17T12:42:59.892328Z"
    }
   },
   "source": [
    "map_output = flatten(map(lambda x: MAP(*x), RECORDREADER()))\n",
    "map_output = list(map_output) # materialize\n",
    "map_output"
   ],
   "outputs": [
    {
     "data": {
      "text/plain": [
       "[(25, User(id=1, age=25, social_contacts=240, gender='female')),\n",
       " (25, User(id=2, age=25, social_contacts=500, gender='female')),\n",
       " (33, User(id=3, age=33, social_contacts=800, gender='female'))]"
      ]
     },
     "execution_count": 100,
     "metadata": {},
     "output_type": "execute_result"
    }
   ],
   "execution_count": 100
  },
  {
   "cell_type": "code",
   "metadata": {
    "id": "8ncYDJ3-VzDn",
    "ExecuteTime": {
     "end_time": "2024-05-17T12:42:59.918334Z",
     "start_time": "2024-05-17T12:42:59.912966Z"
    }
   },
   "source": [
    "def groupbykey(iterable):\n",
    "  t = {}\n",
    "  for (k2, v2) in iterable:\n",
    "    t[k2] = t.get(k2, []) + [v2]\n",
    "  return t.items()"
   ],
   "outputs": [],
   "execution_count": 101
  },
  {
   "cell_type": "code",
   "metadata": {
    "id": "cKzY_6COWOA2",
    "colab": {
     "base_uri": "https://localhost:8080/",
     "height": 85
    },
    "outputId": "e6791b12-e409-47e9-bcd4-e9f8ca8611bd",
    "ExecuteTime": {
     "end_time": "2024-05-17T12:42:59.994910Z",
     "start_time": "2024-05-17T12:42:59.980853Z"
    }
   },
   "source": [
    "shuffle_output = groupbykey(map_output)\n",
    "shuffle_output = list(shuffle_output)\n",
    "shuffle_output"
   ],
   "outputs": [
    {
     "data": {
      "text/plain": [
       "[(25,\n",
       "  [User(id=1, age=25, social_contacts=240, gender='female'),\n",
       "   User(id=2, age=25, social_contacts=500, gender='female')]),\n",
       " (33, [User(id=3, age=33, social_contacts=800, gender='female')])]"
      ]
     },
     "execution_count": 102,
     "metadata": {},
     "output_type": "execute_result"
    }
   ],
   "execution_count": 102
  },
  {
   "cell_type": "code",
   "metadata": {
    "id": "NlA7lkDDYL0t",
    "colab": {
     "base_uri": "https://localhost:8080/",
     "height": 34
    },
    "outputId": "6b25d03f-5c92-4f3b-f500-6d70acd598b7",
    "ExecuteTime": {
     "end_time": "2024-05-17T12:43:00.032468Z",
     "start_time": "2024-05-17T12:43:00.026166Z"
    }
   },
   "source": [
    "reduce_output = flatten(map(lambda x: REDUCE(*x), shuffle_output))\n",
    "reduce_output = list(reduce_output)\n",
    "reduce_output"
   ],
   "outputs": [
    {
     "data": {
      "text/plain": [
       "[(25, 370.0), (33, 800.0)]"
      ]
     },
     "execution_count": 103,
     "metadata": {},
     "output_type": "execute_result"
    }
   ],
   "execution_count": 103
  },
  {
   "cell_type": "markdown",
   "metadata": {
    "id": "xf6qhHEtd6bI"
   },
   "source": [
    "Все действия одним конвейером!"
   ]
  },
  {
   "cell_type": "code",
   "metadata": {
    "id": "dZaQGYxCdpw5",
    "colab": {
     "base_uri": "https://localhost:8080/",
     "height": 34
    },
    "outputId": "3f5c6425-e5c5-49d2-b2cd-ce58a9acc33c",
    "ExecuteTime": {
     "end_time": "2024-05-17T12:43:00.099996Z",
     "start_time": "2024-05-17T12:43:00.094977Z"
    }
   },
   "source": [
    "list(flatten(map(lambda x: REDUCE(*x), groupbykey(flatten(map(lambda x: MAP(*x), RECORDREADER()))))))"
   ],
   "outputs": [
    {
     "data": {
      "text/plain": [
       "[(25, 370.0), (33, 800.0)]"
      ]
     },
     "execution_count": 104,
     "metadata": {},
     "output_type": "execute_result"
    }
   ],
   "execution_count": 104
  },
  {
   "cell_type": "markdown",
   "metadata": {
    "id": "Vq3EWRIpwSiJ"
   },
   "source": [
    "# **MapReduce**\n",
    "Выделим общую для всех пользователей часть системы в отдельную функцию высшего порядка. Это наиболее простая модель MapReduce, без учёта распределённого хранения данных.\n",
    "\n",
    "Пользователь для решения своей задачи реализует RECORDREADER, MAP, REDUCE."
   ]
  },
  {
   "cell_type": "code",
   "metadata": {
    "id": "V1PZeQMwwVjc",
    "ExecuteTime": {
     "end_time": "2024-05-17T12:43:00.121825Z",
     "start_time": "2024-05-17T12:43:00.115637Z"
    }
   },
   "source": [
    "def flatten(nested_iterable):\n",
    "  for iterable in nested_iterable:\n",
    "    for element in iterable:\n",
    "      yield element\n",
    "\n",
    "def groupbykey(iterable):\n",
    "  t = {}\n",
    "  for (k2, v2) in iterable:\n",
    "    t[k2] = t.get(k2, []) + [v2]\n",
    "  return t.items()\n",
    "\n",
    "def MapReduce(RECORDREADER, MAP, REDUCE):\n",
    "  return flatten(map(lambda x: REDUCE(*x), groupbykey(flatten(map(lambda x: MAP(*x), RECORDREADER())))))"
   ],
   "outputs": [],
   "execution_count": 105
  },
  {
   "cell_type": "markdown",
   "metadata": {
    "id": "iFIVrimep678"
   },
   "source": [
    "## Спецификация MapReduce\n",
    "\n",
    "\n",
    "\n",
    "```\n",
    "f (k1, v1) -> (k2,v2)*\n",
    "g (k2, v2*) -> (k3,v3)*\n",
    "\n",
    "mapreduce ((k1,v1)*) -> (k3,v3)*\n",
    "groupby ((k2,v2)*) -> (k2,v2*)*\n",
    "flatten (e2**) -> e2*\n",
    "\n",
    "mapreduce .map(f).flatten.groupby(k2).map(g).flatten\n",
    "```\n",
    "\n",
    "\n"
   ]
  },
  {
   "cell_type": "markdown",
   "metadata": {
    "id": "QtTFyqke3KGe"
   },
   "source": [
    "# Примеры"
   ]
  },
  {
   "cell_type": "markdown",
   "metadata": {
    "id": "BNhh5763w5Vn"
   },
   "source": [
    "## SQL"
   ]
  },
  {
   "cell_type": "code",
   "metadata": {
    "id": "QkyurnvGxBGk",
    "colab": {
     "base_uri": "https://localhost:8080/",
     "height": 34
    },
    "outputId": "84761282-d2ba-435a-e8d7-a85150730e10",
    "ExecuteTime": {
     "end_time": "2024-05-17T12:43:00.210712Z",
     "start_time": "2024-05-17T12:43:00.199976Z"
    }
   },
   "source": [
    "from typing import NamedTuple # requires python 3.6+\n",
    "from typing import Iterator\n",
    "\n",
    "class User(NamedTuple):\n",
    "  id: int\n",
    "  age: str\n",
    "  social_contacts: int\n",
    "  gender: str\n",
    "\n",
    "input_collection = [\n",
    "    User(id=0, age=55, gender='male', social_contacts=20),\n",
    "    User(id=1, age=25, gender='female', social_contacts=240),\n",
    "    User(id=2, age=25, gender='female', social_contacts=500),\n",
    "    User(id=3, age=33, gender='female', social_contacts=800)\n",
    "]\n",
    "\n",
    "def MAP(_, row:NamedTuple):\n",
    "  if (row.gender == 'female'):\n",
    "    yield (row.age, row)\n",
    "\n",
    "def REDUCE(age:str, rows:Iterator[NamedTuple]):\n",
    "  sum = 0\n",
    "  count = 0\n",
    "  for row in rows:\n",
    "    sum += row.social_contacts\n",
    "    count += 1\n",
    "  if (count > 0):\n",
    "    yield (age, sum/count)\n",
    "  else:\n",
    "    yield (age, 0)\n",
    "\n",
    "def RECORDREADER():\n",
    "  return [(u.id, u) for u in input_collection]\n",
    "\n",
    "output = MapReduce(RECORDREADER, MAP, REDUCE)\n",
    "output = list(output)\n",
    "output"
   ],
   "outputs": [
    {
     "data": {
      "text/plain": [
       "[(25, 370.0), (33, 800.0)]"
      ]
     },
     "execution_count": 106,
     "metadata": {},
     "output_type": "execute_result"
    }
   ],
   "execution_count": 106
  },
  {
   "cell_type": "markdown",
   "metadata": {
    "id": "kNKYIeerx0nY"
   },
   "source": [
    "## Matrix-Vector multiplication"
   ]
  },
  {
   "cell_type": "code",
   "metadata": {
    "id": "rwcntRcCyi1V",
    "colab": {
     "base_uri": "https://localhost:8080/",
     "height": 102
    },
    "outputId": "606737ab-6b55-455c-931f-4fc45155f8a9",
    "ExecuteTime": {
     "end_time": "2024-05-17T12:43:00.270025Z",
     "start_time": "2024-05-17T12:43:00.260772Z"
    }
   },
   "source": [
    "from typing import Iterator\n",
    "import numpy as np\n",
    "\n",
    "mat = np.ones((5,4))\n",
    "vec = np.random.rand(4) # in-memory vector in all map tasks\n",
    "\n",
    "def MAP(coordinates:(int, int), value:int):\n",
    "  i, j = coordinates\n",
    "  yield (i, value*vec[j])\n",
    "\n",
    "def REDUCE(i:int, products:Iterator[NamedTuple]):\n",
    "  sum = 0\n",
    "  for p in products:\n",
    "    sum += p\n",
    "  yield (i, sum)\n",
    "\n",
    "def RECORDREADER():\n",
    "  for i in range(mat.shape[0]):\n",
    "    for j in range(mat.shape[1]):\n",
    "      yield ((i, j), mat[i,j])\n",
    "\n",
    "output = MapReduce(RECORDREADER, MAP, REDUCE)\n",
    "output = list(output)\n",
    "output"
   ],
   "outputs": [
    {
     "data": {
      "text/plain": [
       "[(0, 1.6270776597288044),\n",
       " (1, 1.6270776597288044),\n",
       " (2, 1.6270776597288044),\n",
       " (3, 1.6270776597288044),\n",
       " (4, 1.6270776597288044)]"
      ]
     },
     "execution_count": 107,
     "metadata": {},
     "output_type": "execute_result"
    }
   ],
   "execution_count": 107
  },
  {
   "cell_type": "markdown",
   "metadata": {
    "id": "ruZREYdi2o4O"
   },
   "source": [
    "## Inverted index"
   ]
  },
  {
   "cell_type": "code",
   "metadata": {
    "id": "vt9H9Alf3TYv",
    "colab": {
     "base_uri": "https://localhost:8080/",
     "height": 102
    },
    "outputId": "51aeffc9-e111-4607-bd84-cfcc7b56f238",
    "ExecuteTime": {
     "end_time": "2024-05-17T12:43:00.358720Z",
     "start_time": "2024-05-17T12:43:00.347443Z"
    }
   },
   "source": [
    "from typing import Iterator\n",
    "\n",
    "d1 = \"it is what it is\"\n",
    "d2 = \"what is it\"\n",
    "d3 = \"it is a banana\"\n",
    "documents = [d1, d2, d3]\n",
    "\n",
    "def RECORDREADER():\n",
    "  for (docid, document) in enumerate(documents):\n",
    "    yield (\"{}\".format(docid), document)\n",
    "\n",
    "def MAP(docId:str, body:str):\n",
    "  for word in set(body.split(' ')):\n",
    "    yield (word, docId)\n",
    "\n",
    "def REDUCE(word:str, docIds:Iterator[str]):\n",
    "  yield (word, sorted(docIds))\n",
    "\n",
    "output = MapReduce(RECORDREADER, MAP, REDUCE)\n",
    "output = list(output)\n",
    "output"
   ],
   "outputs": [
    {
     "data": {
      "text/plain": [
       "[('it', ['0', '1', '2']),\n",
       " ('what', ['0', '1']),\n",
       " ('is', ['0', '1', '2']),\n",
       " ('a', ['2']),\n",
       " ('banana', ['2'])]"
      ]
     },
     "execution_count": 108,
     "metadata": {},
     "output_type": "execute_result"
    }
   ],
   "execution_count": 108
  },
  {
   "cell_type": "markdown",
   "metadata": {
    "id": "R7az-6DA6qr2"
   },
   "source": [
    "## WordCount"
   ]
  },
  {
   "cell_type": "code",
   "metadata": {
    "id": "dN-nbtgG6uYG",
    "colab": {
     "base_uri": "https://localhost:8080/",
     "height": 34
    },
    "outputId": "24117576-7931-401d-a581-28e246b23453",
    "ExecuteTime": {
     "end_time": "2024-05-17T12:43:00.383288Z",
     "start_time": "2024-05-17T12:43:00.374359Z"
    }
   },
   "source": [
    "from typing import Iterator\n",
    "\n",
    "d1 = \"\"\"\n",
    "it is what it is\n",
    "it is what it is\n",
    "it is what it is\"\"\"\n",
    "d2 = \"\"\"\n",
    "what is it\n",
    "what is it\"\"\"\n",
    "d3 = \"\"\"\n",
    "it is a banana\"\"\"\n",
    "documents = [d1, d2, d3]\n",
    "\n",
    "def RECORDREADER():\n",
    "  for (docid, document) in enumerate(documents):\n",
    "    for (lineid, line) in enumerate(document.split('\\n')):\n",
    "      yield (\"{}:{}\".format(docid,lineid), line)\n",
    "\n",
    "def MAP(docId:str, line:str):\n",
    "  for word in line.split(\" \"):\n",
    "    yield (word, 1)\n",
    "\n",
    "def REDUCE(word:str, counts:Iterator[int]):\n",
    "  sum = 0\n",
    "  for c in counts:\n",
    "    sum += c\n",
    "  yield (word, sum)\n",
    "\n",
    "output = MapReduce(RECORDREADER, MAP, REDUCE)\n",
    "output = list(output)\n",
    "output"
   ],
   "outputs": [
    {
     "data": {
      "text/plain": [
       "[('', 3), ('it', 9), ('is', 9), ('what', 5), ('a', 1), ('banana', 1)]"
      ]
     },
     "execution_count": 109,
     "metadata": {},
     "output_type": "execute_result"
    }
   ],
   "execution_count": 109
  },
  {
   "cell_type": "markdown",
   "metadata": {
    "id": "h-jRAcYCAkkk"
   },
   "source": [
    "# MapReduce Distributed\n",
    "\n",
    "Добавляется в модель фабрика RECORDREARER-ов --- INPUTFORMAT, функция распределения промежуточных результатов по партициям PARTITIONER, и функция COMBINER для частичной аггрегации промежуточных результатов до распределения по новым партициям."
   ]
  },
  {
   "cell_type": "code",
   "metadata": {
    "id": "nw-b-xJsApgW",
    "ExecuteTime": {
     "end_time": "2024-05-17T12:43:00.475575Z",
     "start_time": "2024-05-17T12:43:00.461558Z"
    }
   },
   "source": [
    "def flatten(nested_iterable):\n",
    "  for iterable in nested_iterable:\n",
    "    for element in iterable:\n",
    "      yield element\n",
    "\n",
    "def groupbykey(iterable):\n",
    "  t = {}\n",
    "  for (k2, v2) in iterable:\n",
    "    t[k2] = t.get(k2, []) + [v2]\n",
    "  return t.items()\n",
    "\n",
    "def groupbykey_distributed(map_partitions, PARTITIONER):\n",
    "  global reducers\n",
    "  partitions = [dict() for _ in range(reducers)]\n",
    "  for map_partition in map_partitions:\n",
    "    for (k2, v2) in map_partition:\n",
    "      p = partitions[PARTITIONER(k2)]\n",
    "      p[k2] = p.get(k2, []) + [v2]\n",
    "  return [(partition_id, sorted(partition.items(), key=lambda x: x[0])) for (partition_id, partition) in enumerate(partitions)]\n",
    "\n",
    "def PARTITIONER(obj):\n",
    "  global reducers\n",
    "  return hash(obj) % reducers\n",
    "\n",
    "def MapReduceDistributed(INPUTFORMAT, MAP, REDUCE, PARTITIONER=PARTITIONER, COMBINER=None):\n",
    "  map_partitions = map(lambda record_reader: flatten(map(lambda k1v1: MAP(*k1v1), record_reader)), INPUTFORMAT())\n",
    "  if COMBINER != None:\n",
    "    map_partitions = map(lambda map_partition: flatten(map(lambda k2v2: COMBINER(*k2v2), groupbykey(map_partition))), map_partitions)\n",
    "  reduce_partitions = groupbykey_distributed(map_partitions, PARTITIONER) # shuffle\n",
    "  reduce_outputs = map(lambda reduce_partition: (reduce_partition[0], flatten(map(lambda reduce_input_group: REDUCE(*reduce_input_group), reduce_partition[1]))), reduce_partitions)\n",
    "\n",
    "  print(\"{} key-value pairs were sent over a network.\".format(sum([len(vs) for (k,vs) in flatten([partition for (partition_id, partition) in reduce_partitions])])))\n",
    "  return reduce_outputs"
   ],
   "outputs": [],
   "execution_count": 110
  },
  {
   "cell_type": "markdown",
   "metadata": {
    "id": "kxirlf3XqZxY"
   },
   "source": [
    "## Спецификация MapReduce Distributed\n",
    "\n",
    "\n",
    "```\n",
    "f (k1, v1) -> (k2,v2)*\n",
    "g (k2, v2*) -> (k3,v3)*\n",
    "\n",
    "e1 (k1, v1)\n",
    "e2 (k2, v2)\n",
    "partition1 (k2, v2)*\n",
    "partition2 (k2, v2*)*\n",
    "\n",
    "flatmap (e1->e2*, e1*) -> partition1*\n",
    "groupby (partition1*) -> partition2*\n",
    "\n",
    "mapreduce ((k1,v1)*) -> (k3,v3)*\n",
    "mapreduce .flatmap(f).groupby(k2).flatmap(g)\n",
    "```\n",
    "\n"
   ]
  },
  {
   "cell_type": "markdown",
   "metadata": {
    "id": "CWYw_CpbbY3C"
   },
   "source": [
    "## WordCount"
   ]
  },
  {
   "cell_type": "code",
   "metadata": {
    "id": "uR_zfGFkMZlp",
    "colab": {
     "base_uri": "https://localhost:8080/",
     "height": 68
    },
    "outputId": "c8d46167-473d-43b9-881a-2396991b3731",
    "ExecuteTime": {
     "end_time": "2024-05-17T12:43:00.518424Z",
     "start_time": "2024-05-17T12:43:00.506954Z"
    }
   },
   "source": [
    "from typing import Iterator\n",
    "import numpy as np\n",
    "\n",
    "d1 = \"\"\"\n",
    "it is what it is\n",
    "it is what it is\n",
    "it is what it is\"\"\"\n",
    "d2 = \"\"\"\n",
    "what is it\n",
    "what is it\"\"\"\n",
    "d3 = \"\"\"\n",
    "it is a banana\"\"\"\n",
    "documents = [d1, d2, d3, d1, d2, d3]\n",
    "\n",
    "maps = 3\n",
    "reducers = 2\n",
    "\n",
    "def INPUTFORMAT():\n",
    "  global maps\n",
    "\n",
    "  def RECORDREADER(split):\n",
    "    for (docid, document) in enumerate(split):\n",
    "      for (lineid, line) in enumerate(document.split('\\n')):\n",
    "        yield (\"{}:{}\".format(docid,lineid), line)\n",
    "\n",
    "  split_size =  int(np.ceil(len(documents)/maps))\n",
    "  for i in range(0, len(documents), split_size):\n",
    "    yield RECORDREADER(documents[i:i+split_size])\n",
    "\n",
    "def MAP(docId:str, line:str):\n",
    "  for word in line.split(\" \"):\n",
    "    yield (word, 1)\n",
    "\n",
    "def REDUCE(word:str, counts:Iterator[int]):\n",
    "  sum = 0\n",
    "  for c in counts:\n",
    "    sum += c\n",
    "  yield (word, sum)\n",
    "\n",
    "# try to set COMBINER=REDUCER and look at the number of values sent over the network\n",
    "partitioned_output = MapReduceDistributed(INPUTFORMAT, MAP, REDUCE, COMBINER=None)\n",
    "partitioned_output = [(partition_id, list(partition)) for (partition_id, partition) in partitioned_output]\n",
    "partitioned_output"
   ],
   "outputs": [
    {
     "name": "stdout",
     "output_type": "stream",
     "text": [
      "56 key-value pairs were sent over a network.\n"
     ]
    },
    {
     "data": {
      "text/plain": [
       "[(0, [('', 6), ('what', 10)]),\n",
       " (1, [('a', 2), ('banana', 2), ('is', 18), ('it', 18)])]"
      ]
     },
     "execution_count": 111,
     "metadata": {},
     "output_type": "execute_result"
    }
   ],
   "execution_count": 111
  },
  {
   "cell_type": "markdown",
   "metadata": {
    "id": "gCJGx8IQ87xS"
   },
   "source": [
    "## TeraSort"
   ]
  },
  {
   "cell_type": "code",
   "metadata": {
    "id": "P2v8v1v_8_YR",
    "colab": {
     "base_uri": "https://localhost:8080/",
     "height": 578
    },
    "outputId": "e0987c25-9757-46cb-8e55-d5d2adfbee2b",
    "ExecuteTime": {
     "end_time": "2024-05-17T12:43:00.597122Z",
     "start_time": "2024-05-17T12:43:00.580932Z"
    }
   },
   "source": [
    "import numpy as np\n",
    "\n",
    "input_values = np.random.rand(30)\n",
    "maps = 3\n",
    "reducers = 2\n",
    "min_value = 0.0\n",
    "max_value = 1.0\n",
    "\n",
    "def INPUTFORMAT():\n",
    "  global maps\n",
    "\n",
    "  def RECORDREADER(split):\n",
    "    for value in split:\n",
    "        yield (value, None)\n",
    "\n",
    "  split_size =  int(np.ceil(len(input_values)/maps))\n",
    "  for i in range(0, len(input_values), split_size):\n",
    "    yield RECORDREADER(input_values[i:i+split_size])\n",
    "\n",
    "def MAP(value:int, _):\n",
    "  yield (value, None)\n",
    "\n",
    "def PARTITIONER(key):\n",
    "  global reducers\n",
    "  global max_value\n",
    "  global min_value\n",
    "  bucket_size = (max_value-min_value)/reducers\n",
    "  bucket_id = 0\n",
    "  while((key>(bucket_id+1)*bucket_size) and ((bucket_id+1)*bucket_size<max_value)):\n",
    "    bucket_id += 1\n",
    "  return bucket_id\n",
    "\n",
    "def REDUCE(value:int, _):\n",
    "  yield (None,value)\n",
    "\n",
    "partitioned_output = MapReduceDistributed(INPUTFORMAT, MAP, REDUCE, COMBINER=None, PARTITIONER=PARTITIONER)\n",
    "partitioned_output = [(partition_id, list(partition)) for (partition_id, partition) in partitioned_output]\n",
    "partitioned_output"
   ],
   "outputs": [
    {
     "name": "stdout",
     "output_type": "stream",
     "text": [
      "30 key-value pairs were sent over a network.\n"
     ]
    },
    {
     "data": {
      "text/plain": [
       "[(0,\n",
       "  [(None, 0.06939610420054843),\n",
       "   (None, 0.13746043525942275),\n",
       "   (None, 0.16847133923551616),\n",
       "   (None, 0.18755811215844165),\n",
       "   (None, 0.2016177027795375),\n",
       "   (None, 0.21971787375387253),\n",
       "   (None, 0.22969566434000543),\n",
       "   (None, 0.25087857622953635),\n",
       "   (None, 0.3139145204201683),\n",
       "   (None, 0.3813705683690818),\n",
       "   (None, 0.38674559339556636),\n",
       "   (None, 0.3977572739863977),\n",
       "   (None, 0.40697470658887347),\n",
       "   (None, 0.442689175658985)]),\n",
       " (1,\n",
       "  [(None, 0.5087515575029077),\n",
       "   (None, 0.5690772663203993),\n",
       "   (None, 0.5714486558062077),\n",
       "   (None, 0.5765327932787665),\n",
       "   (None, 0.5866964450381529),\n",
       "   (None, 0.5943612386890614),\n",
       "   (None, 0.6163840505786415),\n",
       "   (None, 0.6282896912544205),\n",
       "   (None, 0.6703912920737205),\n",
       "   (None, 0.6800641232783328),\n",
       "   (None, 0.7590992505944185),\n",
       "   (None, 0.7685744644295737),\n",
       "   (None, 0.7754433551256569),\n",
       "   (None, 0.8633999683263243),\n",
       "   (None, 0.94606355881858),\n",
       "   (None, 0.9635575333373616)])]"
      ]
     },
     "execution_count": 112,
     "metadata": {},
     "output_type": "execute_result"
    }
   ],
   "execution_count": 112
  },
  {
   "cell_type": "code",
   "metadata": {
    "id": "MQhoJaVZI93G",
    "ExecuteTime": {
     "end_time": "2024-05-17T12:43:00.616650Z",
     "start_time": "2024-05-17T12:43:00.612955Z"
    }
   },
   "source": [],
   "outputs": [],
   "execution_count": 112
  },
  {
   "cell_type": "markdown",
   "metadata": {
    "id": "Iy65YJTH99iT"
   },
   "source": [
    "# Упражнения\n",
    "Упражнения взяты из Rajaraman A., Ullman J. D. Mining of massive datasets. – Cambridge University Press, 2011.\n",
    "\n",
    "\n",
    "Для выполнения заданий переопределите функции RECORDREADER, MAP, REDUCE. Для модели распределённой системы может потребоваться переопределение функций PARTITION и COMBINER."
   ]
  },
  {
   "cell_type": "markdown",
   "metadata": {
    "id": "cfvAeZm3S8S8"
   },
   "source": [
    "### Максимальное значение ряда\n",
    "\n",
    "Разработайте MapReduce алгоритм, который находит максимальное число входного списка чисел."
   ]
  },
  {
   "cell_type": "code",
   "metadata": {
    "id": "3GRA1JR-Tkbg",
    "ExecuteTime": {
     "end_time": "2024-05-17T12:43:00.687126Z",
     "start_time": "2024-05-17T12:43:00.676617Z"
    }
   },
   "source": [
    "# Пример входных данных\n",
    "numbers = [15, 22, 8, 42, 32, 3]\n",
    "\n",
    "# Функция RECORDREADER создает пары (index, number)\n",
    "def RECORDREADER():\n",
    "  for index, number in enumerate(numbers):\n",
    "    yield (index, number)\n",
    "\n",
    "# Функция MAP выводит каждое число как (key, value) пару, где key - это фиктивный ключ\n",
    "def MAP(index: int, value: int):\n",
    "  yield (\"max\", value)\n",
    "\n",
    "# Функция REDUCE находит максимальное значение среди всех значений, связанных с данным ключом\n",
    "def REDUCE(key: str, values: Iterator[int]):\n",
    "  yield (key, max(values))\n",
    "\n",
    "# Здесь мы используем базовую версию MapReduce, не распределенную\n",
    "def MapReduce(RECORDREADER, MAP, REDUCE):\n",
    "  map_output = flatten(map(lambda x: MAP(*x), RECORDREADER()))\n",
    "  shuffle_output = groupbykey(map_output)\n",
    "  reduce_output = flatten(map(lambda x: REDUCE(*x), shuffle_output))\n",
    "  return reduce_output\n",
    "\n",
    "# Выполняем MapReduce алгоритм\n",
    "output = MapReduce(RECORDREADER, MAP, REDUCE)\n",
    "output = list(output)\n",
    "print(output)"
   ],
   "outputs": [
    {
     "name": "stdout",
     "output_type": "stream",
     "text": [
      "[('max', 42)]\n"
     ]
    }
   ],
   "execution_count": 113
  },
  {
   "cell_type": "markdown",
   "metadata": {
    "id": "k86bXnqZTk-U"
   },
   "source": [
    "### Арифметическое среднее\n",
    "\n",
    "Разработайте MapReduce алгоритм, который находит арифметическое среднее.\n",
    "\n",
    "$$\\overline{X} = \\frac{1}{n}\\sum_{i=0}^{n} x_i$$\n"
   ]
  },
  {
   "cell_type": "code",
   "metadata": {
    "id": "MPoY5pkfUNZf",
    "ExecuteTime": {
     "end_time": "2024-05-17T12:43:00.742774Z",
     "start_time": "2024-05-17T12:43:00.734017Z"
    }
   },
   "source": [
    "# Пример входных данных\n",
    "numbers = [15, 22, 8, 42, 32, 3]\n",
    "\n",
    "# Функция RECORDREADER создает пары (index, number)\n",
    "def RECORDREADER():\n",
    "  for index, number in enumerate(numbers):\n",
    "    yield (index, number)\n",
    "\n",
    "# Функция MAP выводит каждое число с ключом \"avg\", вместе с 1, чтобы считать количество элементов\n",
    "def MAP(index: int, value: int):\n",
    "  yield (\"avg\", (value, 1))\n",
    "\n",
    "# Функция REDUCE суммирует все значения и их количество, чтобы вычислить среднее\n",
    "def REDUCE(key: str, value_pairs: Iterator[tuple]):\n",
    "  total_sum, count = 0, 0\n",
    "  for value, cnt in value_pairs:\n",
    "    total_sum += value\n",
    "    count += cnt\n",
    "  yield (key, total_sum / count if count != 0 else 0)\n",
    "\n",
    "# Повторное использование предыдущих определений flatten и groupbykey\n",
    "# Определения не предоставлены в этом примере, но предполагается, что они уже определены\n",
    "\n",
    "# Функция MapReduce для выполнения алгоритма\n",
    "def MapReduce(RECORDREADER, MAP, REDUCE):\n",
    "  map_output = flatten(map(lambda x: MAP(*x), RECORDREADER()))\n",
    "  shuffle_output = groupbykey(map_output)\n",
    "  reduce_output = flatten(map(lambda x: REDUCE(*x), shuffle_output))\n",
    "  return reduce_output\n",
    "\n",
    "# Выполнение MapReduce алгоритма\n",
    "output = MapReduce(RECORDREADER, MAP, REDUCE)\n",
    "output = list(output)\n",
    "print(output)"
   ],
   "outputs": [
    {
     "name": "stdout",
     "output_type": "stream",
     "text": [
      "[('avg', 20.333333333333332)]\n"
     ]
    }
   ],
   "execution_count": 114
  },
  {
   "cell_type": "markdown",
   "metadata": {
    "id": "xanzszhsIlLe"
   },
   "source": [
    "### GroupByKey на основе сортировки\n",
    "\n",
    "Реализуйте groupByKey на основе сортировки, проверьте его работу на примерах"
   ]
  },
  {
   "cell_type": "code",
   "metadata": {
    "id": "hQPn3USsIkEC",
    "ExecuteTime": {
     "end_time": "2024-05-17T12:43:00.828811Z",
     "start_time": "2024-05-17T12:43:00.821608Z"
    }
   },
   "source": [
    "from itertools import groupby\n",
    "from operator import itemgetter\n",
    "\n",
    "def groupByKey(iterable):\n",
    "  # Сортировка итерируемого объекта по ключу\n",
    "  sorted_iterable = sorted(iterable, key=itemgetter(0))\n",
    "  # Группировка значений по их ключам\n",
    "  for key, group in groupby(sorted_iterable, key=itemgetter(0)):\n",
    "    yield (key, [item[1] for item in group])\n",
    "\n",
    "# Пример использования функции groupByKey\n",
    "pairs = [(\"apple\", 1), (\"banana\", 2), (\"apple\", 3), (\"banana\", 4), (\"cherry\", 5)]\n",
    "\n",
    "grouped = groupByKey(pairs)\n",
    "print(list(grouped))"
   ],
   "outputs": [
    {
     "name": "stdout",
     "output_type": "stream",
     "text": [
      "[('apple', [1, 3]), ('banana', [2, 4]), ('cherry', [5])]\n"
     ]
    }
   ],
   "execution_count": 115
  },
  {
   "cell_type": "markdown",
   "metadata": {
    "id": "5SgEjCZyGnu6"
   },
   "source": [
    "### Drop duplicates (set construction, unique elements, distinct)\n",
    "\n",
    "Реализуйте распределённую операцию исключения дубликатов"
   ]
  },
  {
   "cell_type": "code",
   "metadata": {
    "id": "okjbyApjGhMt",
    "ExecuteTime": {
     "end_time": "2024-05-17T12:43:00.870715Z",
     "start_time": "2024-05-17T12:43:00.860076Z"
    }
   },
   "source": [
    "from typing import Iterator\n",
    "\n",
    "# Пример входных данных\n",
    "data = [1, 2, 2, 3, 4, 4, 4, 5, 6, 6]\n",
    "\n",
    "# Функция RECORDREADER создает пары (index, value)\n",
    "def RECORDREADER():\n",
    "  for index, value in enumerate(data):\n",
    "    yield (index, value)\n",
    "\n",
    "# Функция MAP выводит каждое значение как (key, None) пару\n",
    "def MAP(index: int, value: str):\n",
    "  yield (value, None)\n",
    "\n",
    "# Функция COMBINER агрегирует данные на этапе map\n",
    "def COMBINER(key: str, values: Iterator[None]):\n",
    "  yield (key, None)\n",
    "\n",
    "# Функция REDUCE находит уникальные ключи\n",
    "def REDUCE(key: str, values: Iterator[None]):\n",
    "  yield key\n",
    "\n",
    "# Helper functions to flatten lists and group by key\n",
    "from itertools import groupby\n",
    "from operator import itemgetter\n",
    "\n",
    "def flatten(lst):\n",
    "  return [item for sublist in lst for item in sublist]\n",
    "\n",
    "def groupByKey(iterable):\n",
    "  sorted_iterable = sorted(iterable, key=itemgetter(0))\n",
    "  for key, group in groupby(sorted_iterable, key=itemgetter(0)):\n",
    "    yield (key, [item[1] for item in group])\n",
    "\n",
    "# Основная функция MapReduce\n",
    "def MapReduce(RECORDREADER, MAP, COMBINER, REDUCE):\n",
    "  # Шаг MAP\n",
    "  map_output = flatten(map(lambda x: MAP(*x), RECORDREADER()))\n",
    "  # Шаг COMBINE\n",
    "  combine_output = flatten(map(lambda x: COMBINER(*x), groupByKey(map_output)))\n",
    "  # Шаг SHUFFLE & SORT\n",
    "  shuffle_output = groupByKey(combine_output)\n",
    "  # Шаг REDUCE\n",
    "  reduce_output = flatten(map(lambda x: REDUCE(*x), shuffle_output))\n",
    "  return reduce_output\n",
    "\n",
    "# Выполняем MapReduce алгоритм\n",
    "output = MapReduce(RECORDREADER, MAP, COMBINER, REDUCE)\n",
    "output = list(output)\n",
    "print(output)"
   ],
   "outputs": [
    {
     "name": "stdout",
     "output_type": "stream",
     "text": [
      "[1, 2, 3, 4, 5, 6]\n"
     ]
    }
   ],
   "execution_count": 116
  },
  {
   "cell_type": "markdown",
   "metadata": {
    "id": "e7sRGoTXuJze"
   },
   "source": [
    "#Операторы реляционной алгебры\n",
    "### Selection (Выборка)\n",
    "\n",
    "**The Map Function**: Для  каждого кортежа $t \\in R$ вычисляется истинность предиката $C$. В случае истины создаётся пара ключ-значение $(t, t)$. В паре ключ и значение одинаковы, равны $t$.\n",
    "\n",
    "**The Reduce Function:** Роль функции Reduce выполняет функция идентичности, которая возвращает то же значение, что получила на вход.\n",
    "\n"
   ]
  },
  {
   "cell_type": "code",
   "metadata": {
    "id": "4nKIKe59uIfc",
    "ExecuteTime": {
     "end_time": "2024-05-17T12:43:00.967336Z",
     "start_time": "2024-05-17T12:43:00.958397Z"
    }
   },
   "source": [
    "from typing import Iterator\n",
    "\n",
    "# Пример входных данных - список кортежей\n",
    "data = [(1, \"Alice\", 25), (2, \"Bob\", 30), (3, \"Charlie\", 35), (4, \"David\", 40), (5, \"Eve\", 45)]\n",
    "\n",
    "# Функция RECORDREADER создает пары (index, tuple)\n",
    "def RECORDREADER():\n",
    "  for index, tuple in enumerate(data):\n",
    "    yield (index, tuple)\n",
    "\n",
    "# Функция MAP применяет предикат к каждому кортежу и выводит кортеж, если предикат истинен\n",
    "def MAP(index: int, tuple: tuple):\n",
    "  if tuple[2] > 30:  # Предикат: возраст больше 30\n",
    "    yield (tuple, tuple)\n",
    "\n",
    "# Функция REDUCE просто возвращает полученный кортеж\n",
    "def REDUCE(key: tuple, values: Iterator[tuple]):\n",
    "  yield key\n",
    "\n",
    "# Функция MapReduce остается такой же, как в предыдущих примерах\n",
    "def MapReduce(RECORDREADER, MAP, REDUCE):\n",
    "  map_output = flatten(map(lambda x: MAP(*x), RECORDREADER()))\n",
    "  shuffle_output = groupbykey(map_output)\n",
    "  reduce_output = flatten(map(lambda x: REDUCE(*x), shuffle_output))\n",
    "  return reduce_output\n",
    "\n",
    "# Выполняем MapReduce алгоритм\n",
    "output = MapReduce(RECORDREADER, MAP, REDUCE)\n",
    "selected_tuples = list(output)\n",
    "print(selected_tuples)"
   ],
   "outputs": [
    {
     "name": "stdout",
     "output_type": "stream",
     "text": [
      "[(3, 'Charlie', 35), (4, 'David', 40), (5, 'Eve', 45)]\n"
     ]
    }
   ],
   "execution_count": 117
  },
  {
   "cell_type": "markdown",
   "metadata": {
    "id": "w27Ca-_Ku85V"
   },
   "source": [
    "### Projection (Проекция)\n",
    "\n",
    "Проекция на множество атрибутов $S$.\n",
    "\n",
    "**The Map Function:** Для каждого кортежа $t \\in R$ создайте кортеж $t′$, исключая  из $t$ те значения, атрибуты которых не принадлежат  $S$. Верните пару $(t′, t′)$.\n",
    "\n",
    "**The Reduce Function:** Для каждого ключа $t′$, созданного любой Map задачей, вы получаете одну или несколько пар $(t′, t′)$. Reduce функция преобразует $(t′, [t′, t′, . . . , t′])$ в $(t′, t′)$, так, что для ключа $t′$ возвращается одна пара  $(t′, t′)$."
   ]
  },
  {
   "cell_type": "code",
   "metadata": {
    "id": "BEvuY4GqvhS6",
    "ExecuteTime": {
     "end_time": "2024-05-17T12:43:01.027027Z",
     "start_time": "2024-05-17T12:43:01.014227Z"
    }
   },
   "source": [
    "# Выбираем атрибуты для проекции\n",
    "# Допустим, мы хотим спроецировать только на \"ID\" и \"Name\"\n",
    "S = [0, 1]  # Индексы атрибутов\n",
    "\n",
    "# Функция RECORDREADER остается той же\n",
    "def RECORDREADER():\n",
    "  for index, tuple in enumerate(data):\n",
    "    yield (index, tuple)\n",
    "\n",
    "# Функция MAP для проекции\n",
    "def MAP(index: int, input_tuple: tuple):\n",
    "  projected_tuple = tuple(i for i in input_tuple)\n",
    "  projected_tuple = tuple(projected_tuple)  # Преобразуем в кортеж\n",
    "  yield (projected_tuple, projected_tuple)\n",
    "\n",
    "# Функция REDUCE для проекции\n",
    "def REDUCE(key: tuple, values: Iterator[tuple]):\n",
    "  yield key\n",
    "\n",
    "# Функция flatten для разворачивания вложенных списков\n",
    "def flatten(lst):\n",
    "  for sublist in lst:\n",
    "    for item in sublist:\n",
    "      yield item\n",
    "\n",
    "# Функция groupbykey для группировки значений по ключу\n",
    "from collections import defaultdict\n",
    "\n",
    "def groupbykey(pairs):\n",
    "  grouped = defaultdict(list)\n",
    "  for key, value in pairs:\n",
    "    grouped[key].append(value)\n",
    "  return grouped.items()\n",
    "\n",
    "# Функция MapReduce остается такой же\n",
    "def MapReduce(RECORDREADER, MAP, REDUCE):\n",
    "  map_output = flatten(map(lambda x: MAP(*x), RECORDREADER()))\n",
    "  shuffle_output = groupbykey(map_output)\n",
    "  reduce_output = flatten(map(lambda x: REDUCE(*x), shuffle_output))\n",
    "  return reduce_output\n",
    "\n",
    "# Выполняем MapReduce алгоритм для проекции\n",
    "output = MapReduce(RECORDREADER, MAP, REDUCE)\n",
    "projected_tuples = list(output)\n",
    "print(projected_tuples)"
   ],
   "outputs": [
    {
     "name": "stdout",
     "output_type": "stream",
     "text": [
      "[(1, 'Alice', 25), (2, 'Bob', 30), (3, 'Charlie', 35), (4, 'David', 40), (5, 'Eve', 45)]\n"
     ]
    }
   ],
   "execution_count": 118
  },
  {
   "cell_type": "markdown",
   "metadata": {
    "id": "7gau6lKXvn2R"
   },
   "source": [
    "### Union (Объединение)\n",
    "\n",
    "**The Map Function:** Превратите каждый входной кортеж $t$ в пару ключ-значение $(t, t)$.\n",
    "\n",
    "**The Reduce Function:** С каждым ключом $t$ будет ассоциировано одно или два значений. В обоих случаях создайте $(t, t)$ в качестве выходного значения."
   ]
  },
  {
   "cell_type": "code",
   "metadata": {
    "id": "Sns7a5agv3nw",
    "ExecuteTime": {
     "end_time": "2024-05-17T12:43:01.129167Z",
     "start_time": "2024-05-17T12:43:01.120789Z"
    }
   },
   "source": [
    "# Пример данных из двух наборов (R и S)\n",
    "R = [\n",
    "  (1, 'Alice', 'Math'),\n",
    "  (2, 'Bob', 'Physics'),\n",
    "  (3, 'Charlie', 'Chemistry')\n",
    "]\n",
    "\n",
    "S = [\n",
    "  (2, 'Bob', 'Physics'),\n",
    "  (3, 'Charlie', 'Chemistry'),\n",
    "  (4, 'David', 'Biology')\n",
    "]\n",
    "\n",
    "# Функция RECORDREADER остается той же, но теперь будет объединять два набора данных\n",
    "def RECORDREADER():\n",
    "  for index, tuple in enumerate(R):\n",
    "    yield (index, tuple)\n",
    "  for index, tuple in enumerate(S, start=len(R)):\n",
    "    yield (index, tuple)\n",
    "\n",
    "# Функция MAP для объединения\n",
    "def MAP(index: int, input_tuple: tuple):\n",
    "  yield (input_tuple, input_tuple)\n",
    "\n",
    "# Функция REDUCE для объединения\n",
    "def REDUCE(key: tuple, values):\n",
    "  yield (key, key)\n",
    "\n",
    "# Функция flatten для разворачивания вложенных списков\n",
    "def flatten(lst):\n",
    "  for sublist in lst:\n",
    "    for item in sublist:\n",
    "      yield item\n",
    "\n",
    "# Функция groupbykey для группировки значений по ключу\n",
    "from collections import defaultdict\n",
    "\n",
    "def groupbykey(pairs):\n",
    "  grouped = defaultdict(list)\n",
    "  for key, value in pairs:\n",
    "    grouped[key].append(value)\n",
    "  return grouped.items()\n",
    "\n",
    "# Функция MapReduce остается такой же\n",
    "def MapReduce(RECORDREADER, MAP, REDUCE):\n",
    "  map_output = flatten(map(lambda x: MAP(*x), RECORDREADER()))\n",
    "  shuffle_output = groupbykey(map_output)\n",
    "  reduce_output = flatten(map(lambda x: REDUCE(*x), shuffle_output))\n",
    "  return reduce_output\n",
    "\n",
    "# Выполняем MapReduce алгоритм для объединения\n",
    "output = MapReduce(RECORDREADER, MAP, REDUCE)\n",
    "union_tuples = list(output)\n",
    "print(union_tuples)"
   ],
   "outputs": [
    {
     "name": "stdout",
     "output_type": "stream",
     "text": [
      "[((1, 'Alice', 'Math'), (1, 'Alice', 'Math')), ((2, 'Bob', 'Physics'), (2, 'Bob', 'Physics')), ((3, 'Charlie', 'Chemistry'), (3, 'Charlie', 'Chemistry')), ((4, 'David', 'Biology'), (4, 'David', 'Biology'))]\n"
     ]
    }
   ],
   "execution_count": 119
  },
  {
   "cell_type": "markdown",
   "metadata": {
    "id": "dQ8TuEbjv4J8"
   },
   "source": [
    "### Intersection (Пересечение)\n",
    "\n",
    "**The Map Function:** Превратите каждый кортеж $t$ в пары ключ-значение $(t, t)$.\n",
    "\n",
    "**The Reduce Function:** Если для ключа $t$ есть список из двух элементов $[t, t]$ $-$ создайте пару $(t, t)$. Иначе, ничего не создавайте."
   ]
  },
  {
   "cell_type": "code",
   "metadata": {
    "id": "XKlBZh4IwERR",
    "ExecuteTime": {
     "end_time": "2024-05-17T12:43:01.155449Z",
     "start_time": "2024-05-17T12:43:01.144807Z"
    }
   },
   "source": [
    "# Пример данных из двух наборов (R и S)\n",
    "R = [\n",
    "  (1, 'Alice', 'Math'),\n",
    "  (2, 'Bob', 'Physics'),\n",
    "  (3, 'Charlie', 'Chemistry')\n",
    "]\n",
    "\n",
    "S = [\n",
    "  (2, 'Bob', 'Physics'),\n",
    "  (3, 'Charlie', 'Chemistry'),\n",
    "  (4, 'David', 'Biology')\n",
    "]\n",
    "\n",
    "# Функция RECORDREADER объединяет два набора данных с меткой, откуда они пришли\n",
    "def RECORDREADER():\n",
    "  for index, tuple in enumerate(R):\n",
    "    yield (index, tuple, 'R')\n",
    "  for index, tuple in enumerate(S, start=len(R)):\n",
    "    yield (index, tuple, 'S')\n",
    "\n",
    "# Функция MAP для пересечения\n",
    "def MAP(index: int, input_tuple: tuple, source: str):\n",
    "  yield (input_tuple, source)\n",
    "\n",
    "# Функция REDUCE для пересечения\n",
    "def REDUCE(key: tuple, values):\n",
    "  sources = list(values)\n",
    "  if len(sources) == 2 and 'R' in sources and 'S' in sources:\n",
    "    yield (key, key)\n",
    "\n",
    "# Функция flatten для разворачивания вложенных списков\n",
    "def flatten(lst):\n",
    "  for sublist in lst:\n",
    "    for item in sublist:\n",
    "      yield item\n",
    "\n",
    "# Функция groupbykey для группировки значений по ключу\n",
    "from collections import defaultdict\n",
    "\n",
    "def groupbykey(pairs):\n",
    "  grouped = defaultdict(list)\n",
    "  for key, value in pairs:\n",
    "    grouped[key].append(value)\n",
    "  return grouped.items()\n",
    "\n",
    "# Функция MapReduce остается такой же\n",
    "def MapReduce(RECORDREADER, MAP, REDUCE):\n",
    "  map_output = flatten(map(lambda x: MAP(*x), RECORDREADER()))\n",
    "  shuffle_output = groupbykey(map_output)\n",
    "  reduce_output = flatten(map(lambda x: REDUCE(*x), shuffle_output))\n",
    "  return reduce_output\n",
    "\n",
    "# Выполняем MapReduce алгоритм для пересечения\n",
    "output = MapReduce(RECORDREADER, MAP, REDUCE)\n",
    "intersection_tuples = list(output)\n",
    "print(intersection_tuples)"
   ],
   "outputs": [
    {
     "name": "stdout",
     "output_type": "stream",
     "text": [
      "[((2, 'Bob', 'Physics'), (2, 'Bob', 'Physics')), ((3, 'Charlie', 'Chemistry'), (3, 'Charlie', 'Chemistry'))]\n"
     ]
    }
   ],
   "execution_count": 120
  },
  {
   "cell_type": "markdown",
   "metadata": {
    "id": "AVOpqoY3wE5k"
   },
   "source": [
    "### Difference (Разница)\n",
    "\n",
    "**The Map Function:** Для кортежа $t \\in R$, создайте пару $(t, R)$, и для кортежа $t \\in S$, создайте пару $(t, S)$. Задумка заключается в том, чтобы значение пары было именем отношения $R$ or $S$, которому принадлежит кортеж (а лучше, единичный бит, по которому можно два отношения различить $R$ or $S$), а не весь набор атрибутов отношения.\n",
    "\n",
    "**The Reduce Function:** Для каждого ключа $t$, если соответствующее значение является списком $[R]$, создайте пару $(t, t)$. В иных случаях не предпринимайте действий."
   ]
  },
  {
   "cell_type": "code",
   "metadata": {
    "id": "QE_AC09lwZIZ",
    "ExecuteTime": {
     "end_time": "2024-05-17T12:43:01.228126Z",
     "start_time": "2024-05-17T12:43:01.217957Z"
    }
   },
   "source": [
    "# Пример данных из двух наборов (R и S)\n",
    "R = [\n",
    "  (1, 'Alice', 'Math'),\n",
    "  (2, 'Bob', 'Physics'),\n",
    "  (3, 'Charlie', 'Chemistry')\n",
    "]\n",
    "\n",
    "S = [\n",
    "  (2, 'Bob', 'Physics'),\n",
    "  (3, 'Charlie', 'Chemistry'),\n",
    "  (4, 'David', 'Biology')\n",
    "]\n",
    "\n",
    "# Функция RECORDREADER объединяет два набора данных с меткой, откуда они пришли\n",
    "def RECORDREADER():\n",
    "  for index, tuple in enumerate(R):\n",
    "    yield (index, tuple, 'R')\n",
    "  for index, tuple in enumerate(S, start=len(R)):\n",
    "    yield (index, tuple, 'S')\n",
    "\n",
    "# Функция MAP для разницы\n",
    "def MAP(index: int, input_tuple: tuple, source: str):\n",
    "  yield (input_tuple, source)\n",
    "\n",
    "# Функция REDUCE для разницы\n",
    "def REDUCE(key: tuple, values):\n",
    "  sources = list(values)\n",
    "  if sources == ['R']:\n",
    "    yield (key, key)\n",
    "\n",
    "# Функция flatten для разворачивания вложенных списков\n",
    "def flatten(lst):\n",
    "  for sublist in lst:\n",
    "    for item in sublist:\n",
    "      yield item\n",
    "\n",
    "# Функция groupbykey для группировки значений по ключу\n",
    "from collections import defaultdict\n",
    "\n",
    "def groupbykey(pairs):\n",
    "  grouped = defaultdict(list)\n",
    "  for key, value in pairs:\n",
    "    grouped[key].append(value)\n",
    "  return grouped.items()\n",
    "\n",
    "# Функция MapReduce остается такой же\n",
    "def MapReduce(RECORDREADER, MAP, REDUCE):\n",
    "  map_output = flatten(map(lambda x: MAP(*x), RECORDREADER()))\n",
    "  shuffle_output = groupbykey(map_output)\n",
    "  reduce_output = flatten(map(lambda x: REDUCE(*x), shuffle_output))\n",
    "  return reduce_output\n",
    "\n",
    "# Выполняем MapReduce алгоритм для разницы\n",
    "output = MapReduce(RECORDREADER, MAP, REDUCE)\n",
    "difference_tuples = list(output)\n",
    "print(difference_tuples)"
   ],
   "outputs": [
    {
     "name": "stdout",
     "output_type": "stream",
     "text": [
      "[((1, 'Alice', 'Math'), (1, 'Alice', 'Math'))]\n"
     ]
    }
   ],
   "execution_count": 121
  },
  {
   "cell_type": "markdown",
   "metadata": {
    "id": "j8I58V2VwhSm"
   },
   "source": [
    "### Natural Join\n",
    "\n",
    "**The Map Function:** Для каждого кортежа $(a, b)$ отношения $R$, создайте пару $(b,(R, a))$. Для каждого кортежа $(b, c)$ отношения $S$, создайте пару $(b,(S, c))$.\n",
    "\n",
    "**The Reduce Function:** Каждый ключ $b$ будет асоциирован со списком пар, которые принимают форму либо $(R, a)$, либо $(S, c)$. Создайте все пары, одни, состоящие из  первого компонента $R$, а другие, из первого компонента $S$, то есть $(R, a)$ и $(S, c)$. На выходе вы получаете последовательность пар ключ-значение из списков ключей и значений. Ключ не нужен. Каждое значение, это тройка $(a, b, c)$ такая, что $(R, a)$ и $(S, c)$ это принадлежат входному списку значений."
   ]
  },
  {
   "cell_type": "code",
   "metadata": {
    "id": "yHiuuTctw86I",
    "ExecuteTime": {
     "end_time": "2024-05-17T12:43:01.270981Z",
     "start_time": "2024-05-17T12:43:01.259382Z"
    }
   },
   "source": [
    "# Пример данных из двух наборов (R и S)\n",
    "R = [\n",
    "  (1, 'Alice', 'Math'),\n",
    "  (2, 'Bob', 'Physics'),\n",
    "  (3, 'Charlie', 'Chemistry')\n",
    "]\n",
    "\n",
    "S = [\n",
    "  ('Math', 'Dr. Smith'),\n",
    "  ('Physics', 'Dr. Johnson'),\n",
    "  ('Biology', 'Dr. Davis')\n",
    "]\n",
    "\n",
    "# Функция RECORDREADER объединяет два набора данных с меткой, откуда они пришли\n",
    "def RECORDREADER():\n",
    "  for index, tuple in enumerate(R):\n",
    "    yield (index, tuple, 'R')\n",
    "  for index, tuple in enumerate(S, start=len(R)):\n",
    "    yield (index, tuple, 'S')\n",
    "\n",
    "# Функция MAP для естественного соединения\n",
    "def MAP(index: int, input_tuple: tuple, source: str):\n",
    "  if source == 'R':\n",
    "    _, name, subject = input_tuple\n",
    "    yield (subject, (source, name))\n",
    "  elif source == 'S':\n",
    "    subject, professor = input_tuple\n",
    "    yield (subject, (source, professor))\n",
    "\n",
    "# Функция REDUCE для естественного соединения\n",
    "def REDUCE(key: str, values):\n",
    "  r_values = [value[1] for value in values if value[0] == 'R']\n",
    "  s_values = [value[1] for value in values if value[0] == 'S']\n",
    "  for r_value in r_values:\n",
    "    for s_value in s_values:\n",
    "      yield (r_value, key, s_value)\n",
    "\n",
    "# Функция flatten для разворачивания вложенных списков\n",
    "def flatten(lst):\n",
    "  for sublist in lst:\n",
    "    for item in sublist:\n",
    "      yield item\n",
    "\n",
    "# Функция groupbykey для группировки значений по ключу\n",
    "from collections import defaultdict\n",
    "\n",
    "def groupbykey(pairs):\n",
    "  grouped = defaultdict(list)\n",
    "  for key, value in pairs:\n",
    "    grouped[key].append(value)\n",
    "  return grouped.items()\n",
    "\n",
    "# Функция MapReduce остается такой же\n",
    "def MapReduce(RECORDREADER, MAP, REDUCE):\n",
    "  map_output = flatten(map(lambda x: MAP(*x), RECORDREADER()))\n",
    "  shuffle_output = groupbykey(map_output)\n",
    "  reduce_output = flatten(map(lambda x: REDUCE(*x), shuffle_output))\n",
    "  return reduce_output\n",
    "\n",
    "# Выполняем MapReduce алгоритм для естественного соединения\n",
    "output = MapReduce(RECORDREADER, MAP, REDUCE)\n",
    "join_tuples = list(output)\n",
    "print(join_tuples)"
   ],
   "outputs": [
    {
     "name": "stdout",
     "output_type": "stream",
     "text": [
      "[('Alice', 'Math', 'Dr. Smith'), ('Bob', 'Physics', 'Dr. Johnson')]\n"
     ]
    }
   ],
   "execution_count": 122
  },
  {
   "cell_type": "markdown",
   "metadata": {
    "id": "kYdlr0YUxE27"
   },
   "source": [
    "### Grouping and Aggregation (Группировка и аггрегация)\n",
    "\n",
    "**The Map Function:** Для каждого кортежа $(a, b, c$) создайте пару $(a, b)$.\n",
    "\n",
    "**The Reduce Function:** Ключ представляет ту или иную группу. Примение аггрегирующую операцию $\\theta$ к списку значений $[b1, b2, . . . , bn]$ ассоциированных с ключом $a$. Возвращайте в выходной поток $(a, x)$, где $x$ результат применения  $\\theta$ к списку. Например, если $\\theta$ это $SUM$, тогда $x = b1 + b2 + · · · + bn$, а если $\\theta$ is $MAX$, тогда $x$ это максимальное из значений $b1, b2, . . . , bn$."
   ]
  },
  {
   "cell_type": "code",
   "metadata": {
    "id": "MLPckfEGxico",
    "ExecuteTime": {
     "end_time": "2024-05-17T12:43:01.325681Z",
     "start_time": "2024-05-17T12:43:01.302247Z"
    }
   },
   "source": [
    "# Пример данных\n",
    "data = [\n",
    "  ('Alice', 'Math', 80),\n",
    "  ('Alice', 'Physics', 90),\n",
    "  ('Bob', 'Math', 85),\n",
    "  ('Bob', 'Physics', 75),\n",
    "  ('Charlie', 'Math', 95),\n",
    "  ('Charlie', 'Physics', 85)\n",
    "]\n",
    "\n",
    "# Функция RECORDREADER для чтения данных\n",
    "def RECORDREADER():\n",
    "  for index, tuple in enumerate(data):\n",
    "    yield (index, tuple)\n",
    "\n",
    "# Функция MAP для группировки\n",
    "def MAP(index: int, input_tuple: tuple):\n",
    "  student, subject, score = input_tuple\n",
    "  yield (student, score)\n",
    "\n",
    "# Пример функции агрегации SUM\n",
    "def REDUCE_SUM(key: str, values):\n",
    "  yield (key, sum(values))\n",
    "\n",
    "# Пример функции агрегации MAX\n",
    "def REDUCE_MAX(key: str, values):\n",
    "  yield (key, max(values))\n",
    "\n",
    "# Функция flatten для разворачивания вложенных списков\n",
    "def flatten(lst):\n",
    "  for sublist in lst:\n",
    "    for item in sublist:\n",
    "      yield item\n",
    "\n",
    "# Функция groupbykey для группировки значений по ключу\n",
    "from collections import defaultdict\n",
    "\n",
    "def groupbykey(pairs):\n",
    "  grouped = defaultdict(list)\n",
    "  for key, value in pairs:\n",
    "    grouped[key].append(value)\n",
    "  return grouped.items()\n",
    "\n",
    "# Функция MapReduce остается такой же\n",
    "def MapReduce(RECORDREADER, MAP, REDUCE):\n",
    "  map_output = flatten(map(lambda x: MAP(*x), RECORDREADER()))\n",
    "  shuffle_output = groupbykey(map_output)\n",
    "  reduce_output = flatten(map(lambda x: REDUCE(*x), shuffle_output))\n",
    "  return reduce_output\n",
    "\n",
    "# Пример использования с функцией SUM\n",
    "output_sum = MapReduce(RECORDREADER, MAP, REDUCE_SUM)\n",
    "aggregated_sum = list(output_sum)\n",
    "print(\"Aggregated SUM:\", aggregated_sum)\n",
    "\n",
    "# Пример использования с функцией MAX\n",
    "output_max = MapReduce(RECORDREADER, MAP, REDUCE_MAX)\n",
    "aggregated_max = list(output_max)\n",
    "print(\"Aggregated MAX:\", aggregated_max)"
   ],
   "outputs": [
    {
     "name": "stdout",
     "output_type": "stream",
     "text": [
      "Aggregated SUM: [('Alice', 170), ('Bob', 160), ('Charlie', 180)]\n",
      "Aggregated MAX: [('Alice', 90), ('Bob', 85), ('Charlie', 95)]\n"
     ]
    }
   ],
   "execution_count": 123
  },
  {
   "cell_type": "markdown",
   "metadata": {
    "id": "03IffTEOJgOb"
   },
   "source": [
    "#"
   ]
  },
  {
   "cell_type": "markdown",
   "metadata": {
    "id": "IIrRgvG4RIS4"
   },
   "source": [
    "### Matrix-Vector multiplication\n",
    "\n",
    "Случай, когда вектор не помещается в памяти Map задачи\n"
   ]
  },
  {
   "cell_type": "code",
   "metadata": {
    "id": "KQhDbiL3zS9r",
    "ExecuteTime": {
     "end_time": "2024-05-17T12:43:01.391942Z",
     "start_time": "2024-05-17T12:43:01.377500Z"
    }
   },
   "source": [
    "# Пример данных матрицы A и разбиения вектора V на части\n",
    "A = [\n",
    "  (0, 0, 1), (0, 1, 2), (0, 2, 3),\n",
    "  (1, 0, 4), (1, 1, 5), (1, 2, 6),\n",
    "  (2, 0, 7), (2, 1, 8), (2, 2, 9)\n",
    "]\n",
    "\n",
    "V_parts = {\n",
    "  0: [(0, 1)],  # Часть вектора V[0]\n",
    "  1: [(1, 2)],  # Часть вектора V[1]\n",
    "  2: [(2, 3)]   # Часть вектора V[2]\n",
    "}\n",
    "\n",
    "# Функция RECORDREADER объединяет элементы матрицы и части вектора\n",
    "def RECORDREADER():\n",
    "  for index, (i, j, value) in enumerate(A):\n",
    "    yield (index, (i, j, value))\n",
    "  for part, elements in V_parts.items():\n",
    "    for index, (j, value) in enumerate(elements, start=len(A)):\n",
    "      yield (index, (j, value))\n",
    "\n",
    "# Функция MAP для умножения матрицы на вектор\n",
    "def MAP(index: int, input_tuple: tuple):\n",
    "  if len(input_tuple) == 3:  # Это элемент матрицы\n",
    "    i, j, aij = input_tuple\n",
    "    yield (j, ('matrix', i, aij))\n",
    "  elif len(input_tuple) == 2:  # Это элемент вектора\n",
    "    j, vj = input_tuple\n",
    "    yield (j, ('vector', vj))\n",
    "\n",
    "# Функция REDUCE для сопоставления элементов матрицы и вектора\n",
    "def REDUCE(key: int, values):\n",
    "  matrix_elements = []\n",
    "  vector_value = None\n",
    "  for value in values:\n",
    "    if value[0] == 'matrix':\n",
    "      matrix_elements.append((value[1], value[2]))\n",
    "    elif value[0] == 'vector':\n",
    "      vector_value = value[1]\n",
    "\n",
    "  if vector_value is not None:\n",
    "    for i, aij in matrix_elements:\n",
    "      yield (i, aij * vector_value)\n",
    "\n",
    "# Второй этап Reduce для суммирования по строкам\n",
    "def REDUCE_SUM(key: int, values):\n",
    "  yield (key, sum(values))\n",
    "\n",
    "# Функция flatten для разворачивания вложенных списков\n",
    "def flatten(lst):\n",
    "  for sublist in lst:\n",
    "    for item in sublist:\n",
    "      yield item\n",
    "\n",
    "# Функция groupbykey для группировки значений по ключу\n",
    "from collections import defaultdict\n",
    "\n",
    "def groupbykey(pairs):\n",
    "  grouped = defaultdict(list)\n",
    "  for key, value in pairs:\n",
    "    grouped[key].append(value)\n",
    "  return grouped.items()\n",
    "\n",
    "# Функция MapReduce остается такой же\n",
    "def MapReduce(RECORDREADER, MAP, REDUCE):\n",
    "  map_output = flatten(map(lambda x: MAP(*x), RECORDREADER()))\n",
    "  shuffle_output = groupbykey(map_output)\n",
    "  reduce_output = flatten(map(lambda x: REDUCE(*x), shuffle_output))\n",
    "  return reduce_output\n",
    "\n",
    "# Первый этап MapReduce для умножения матрицы на вектор\n",
    "intermediate_output = MapReduce(RECORDREADER, MAP, REDUCE)\n",
    "intermediate_pairs = list(intermediate_output)\n",
    "\n",
    "# Второй этап MapReduce для суммирования по строкам\n",
    "def RECORDREADER_SUM():\n",
    "  for index, pair in enumerate(intermediate_pairs):\n",
    "    yield (index, pair)\n",
    "\n",
    "# Функция MAP для второго этапа\n",
    "def MAP_SUM(index: int, pair: tuple):\n",
    "  yield pair[0], pair[1]\n",
    "\n",
    "output = MapReduce(RECORDREADER_SUM, MAP_SUM, REDUCE_SUM)\n",
    "final_result = list(output)\n",
    "print(final_result)"
   ],
   "outputs": [
    {
     "name": "stdout",
     "output_type": "stream",
     "text": [
      "[(0, 14), (1, 32), (2, 50)]\n"
     ]
    }
   ],
   "execution_count": 124
  },
  {
   "cell_type": "markdown",
   "metadata": {
    "id": "GIo2t7nNxvA9"
   },
   "source": [
    "## Matrix multiplication (Перемножение матриц)\n",
    "\n",
    "Если у нас есть матрица $M$ с элементами $m_{ij}$ в строке $i$ и столбце $j$, и матрица $N$ с элементами $n_{jk}$ в строке $j$ и столбце $k$, тогда их произведение $P = MN$ есть матрица $P$ с элементами $p_{ik}$ в строке $i$ и столбце $k$, где\n",
    "\n",
    "$$p_{ik} =\\sum_{j} m_{ij}n_{jk}$$\n",
    "\n",
    "Необходимым требованием является одинаковое количество столбцов в $M$ и строк в $N$, чтобы операция суммирования по  $j$ была осмысленной. Мы можем размышлять о матрице, как об отношении с тремя атрибутами: номер строки, номер столбца, само значение. Таким образом матрица $M$ предстваляется как отношение $ M(I, J, V )$, с кортежами $(i, j, m_{ij})$, и, аналогично, матрица $N$ представляется как отношение $N(J, K, W)$, с кортежами $(j, k, n_{jk})$. Так как большие матрицы как правило разреженные (большинство значений равно 0), и так как мы можем нулевыми значениями пренебречь (не хранить), такое реляционное представление достаточно эффективно для больших матриц. Однако, возможно, что координаты $i$, $j$, и $k$ неявно закодированы в смещение позиции элемента относительно начала файла, вместо явного хранения. Тогда, функция Map (или Reader) должна быть разработана таким образом, чтобы реконструировать компоненты $I$, $J$, и $K$ кортежей из смещения.\n",
    "\n",
    "Произведение $MN$ это фактически join, за которым следуют группировка по ключу и аггрегация. Таким образом join отношений $M(I, J, V )$ и $N(J, K, W)$, имеющих общим только атрибут $J$, создаст кортежи $(i, j, k, v, w)$ из каждого кортежа $(i, j, v) \\in M$ и кортежа $(j, k, w) \\in N$. Такой 5 компонентный кортеж представляет пару элементов матрицы $(m_{ij} , n_{jk})$. Что нам хотелось бы получить на самом деле, это произведение этих элементов, то есть, 4 компонентный кортеж$(i, j, k, v \\times w)$, так как он представляет произведение $m_{ij}n_{jk}$. Мы представляем отношение как результат одной MapReduce операции, в которой мы можем произвести группировку и аггрегацию, с $I$ и $K$  атрибутами, по которым идёт группировка, и суммой  $V \\times W$.\n",
    "\n",
    "\n",
    "\n"
   ]
  },
  {
   "cell_type": "code",
   "metadata": {
    "id": "1MBkGaLAYVCt",
    "ExecuteTime": {
     "end_time": "2024-05-17T12:43:01.476481Z",
     "start_time": "2024-05-17T12:43:01.454460Z"
    }
   },
   "source": [
    "# Пример данных для матрицы M и N\n",
    "M = [\n",
    "  (0, 0, 1), (0, 1, 2), (1, 0, 3), (1, 1, 4)\n",
    "]\n",
    "N = [\n",
    "  (0, 0, 5), (0, 1, 6), (1, 0, 7), (1, 1, 8)\n",
    "]\n",
    "\n",
    "# Функция RECORDREADER объединяет элементы обеих матриц\n",
    "def RECORDREADER():\n",
    "  for index, (i, j, mij) in enumerate(M):\n",
    "    yield (index, ('M', i, j, mij))\n",
    "  for index, (j, k, njk) in enumerate(N, start=len(M)):\n",
    "    yield (index, ('N', j, k, njk))\n",
    "\n",
    "# Функция MAP для перемножения матриц\n",
    "def MAP(index: int, input_tuple: tuple):\n",
    "  if input_tuple[0] == 'M':\n",
    "    _, i, j, mij = input_tuple\n",
    "    yield (j, ('M', i, mij))\n",
    "  elif input_tuple[0] == 'N':\n",
    "    _, j, k, njk = input_tuple\n",
    "    yield (j, ('N', k, njk))\n",
    "\n",
    "# Функция REDUCE для объединения пар элементов матриц M и N\n",
    "def REDUCE(key: int, values):\n",
    "  m_elements = []\n",
    "  n_elements = []\n",
    "  for value in values:\n",
    "    if value[0] == 'M':\n",
    "      m_elements.append((value[1], value[2]))\n",
    "    elif value[0] == 'N':\n",
    "      n_elements.append((value[1], value[2]))\n",
    "\n",
    "  for (i, mij) in m_elements:\n",
    "    for (k, njk) in n_elements:\n",
    "      yield (i, k, mij * njk)\n",
    "\n",
    "# Второй этап Reduce для суммирования по парам (i, k)\n",
    "def REDUCE_SUM(key: tuple, values):\n",
    "  yield (key[0], key[1], sum(values))\n",
    "\n",
    "# Функция flatten для разворачивания вложенных списков\n",
    "def flatten(lst):\n",
    "  for sublist in lst:\n",
    "    for item in sublist:\n",
    "      yield item\n",
    "\n",
    "# Функция groupbykey для группировки значений по ключу\n",
    "from collections import defaultdict\n",
    "\n",
    "def groupbykey(pairs):\n",
    "  grouped = defaultdict(list)\n",
    "  for key, value in pairs:\n",
    "    grouped[key].append(value)\n",
    "  return grouped.items()\n",
    "\n",
    "# Функция MapReduce остается такой же\n",
    "def MapReduce(RECORDREADER, MAP, REDUCE):\n",
    "  map_output = flatten(map(lambda x: MAP(*x), RECORDREADER()))\n",
    "  shuffle_output = groupbykey(map_output)\n",
    "  reduce_output = flatten(map(lambda x: REDUCE(*x), shuffle_output))\n",
    "  return reduce_output\n",
    "\n",
    "# Первый этап MapReduce для объединения пар элементов матриц M и N\n",
    "intermediate_output = MapReduce(RECORDREADER, MAP, REDUCE)\n",
    "intermediate_pairs = list(intermediate_output)\n",
    "\n",
    "# Второй этап MapReduce для суммирования по парам (i, k)\n",
    "def RECORDREADER_SUM():\n",
    "  for index, pair in enumerate(intermediate_pairs):\n",
    "    yield (index, pair)\n",
    "\n",
    "# Функция MAP_SUM для второго этапа\n",
    "def MAP_SUM(index: int, pair: tuple):\n",
    "  yield (pair[0], pair[1]), pair[2]\n",
    "\n",
    "output = MapReduce(RECORDREADER_SUM, MAP_SUM, REDUCE_SUM)\n",
    "final_result = list(output)\n",
    "print(final_result)"
   ],
   "outputs": [
    {
     "name": "stdout",
     "output_type": "stream",
     "text": [
      "[(0, 0, 19), (0, 1, 22), (1, 0, 43), (1, 1, 50)]\n"
     ]
    }
   ],
   "execution_count": 125
  },
  {
   "cell_type": "markdown",
   "metadata": {
    "id": "sMspsOT0ZB35"
   },
   "source": [
    "Реализуйте перемножение матриц с использованием модельного кода MapReduce для одной машины в случае, когда одна матрица хранится в памяти, а другая генерируется RECORDREADER-ом."
   ]
  },
  {
   "cell_type": "code",
   "metadata": {
    "id": "psP1XekbsEjS",
    "ExecuteTime": {
     "end_time": "2024-05-17T12:43:01.519577Z",
     "start_time": "2024-05-17T12:43:01.507746Z"
    }
   },
   "source": [
    "import numpy as np\n",
    "\n",
    "# Размерности матриц\n",
    "I = 2\n",
    "J = 3\n",
    "K = 4 * 10\n",
    "\n",
    "# Матрица, которая хранится в памяти\n",
    "small_mat = np.random.rand(I, J)\n",
    "\n",
    "# Большая матрица, которая будет обрабатываться через RECORDREADER\n",
    "big_mat = np.random.rand(J, K)\n",
    "\n",
    "# Функция RECORDREADER для чтения большой матрицы\n",
    "def RECORDREADER():\n",
    "  for j in range(big_mat.shape[0]):\n",
    "    for k in range(big_mat.shape[1]):\n",
    "      yield ((j, k), big_mat[j, k])\n",
    "\n",
    "# Функция MAP для перемножения матриц\n",
    "def MAP(k1, v1):\n",
    "  (j, k) = k1\n",
    "  w = v1\n",
    "  for i in range(small_mat.shape[0]):\n",
    "    yield ((i, k), small_mat[i, j] * w)\n",
    "\n",
    "# Функция REDUCE для суммирования произведений\n",
    "def REDUCE(key, values):\n",
    "  yield (key, sum(values))\n",
    "\n",
    "# Функция flatten для разворачивания вложенных списков\n",
    "def flatten(nested_iterable):\n",
    "  for iterable in nested_iterable:\n",
    "    for element in iterable:\n",
    "      yield element\n",
    "\n",
    "# Функция groupbykey для группировки значений по ключу\n",
    "from collections import defaultdict\n",
    "\n",
    "def groupbykey(iterable):\n",
    "  grouped = defaultdict(list)\n",
    "  for (k2, v2) in iterable:\n",
    "    grouped[k2].append(v2)\n",
    "  return grouped.items()\n",
    "\n",
    "# Функция MapReduce\n",
    "def MapReduce(RECORDREADER, MAP, REDUCE):\n",
    "  return flatten(map(lambda x: REDUCE(*x), groupbykey(flatten(map(lambda x: MAP(*x), RECORDREADER())))))\n",
    "\n",
    "# Выполнение MapReduce для перемножения матриц\n",
    "output = MapReduce(RECORDREADER, MAP, REDUCE)\n",
    "final_result = list(output)\n",
    "\n",
    "# Преобразуем результат в numpy массив\n",
    "result = np.zeros((I, K))\n",
    "for ((i, k), value) in final_result:\n",
    "  result[i, k] = value\n",
    "\n",
    "print(\"Resulting Matrix P:\")\n",
    "print(result)"
   ],
   "outputs": [
    {
     "name": "stdout",
     "output_type": "stream",
     "text": [
      "Resulting Matrix P:\n",
      "[[0.87628182 1.07220129 1.13798572 0.40196932 1.34223776 0.7975413\n",
      "  0.47292603 0.61971085 0.55249335 1.15597973 0.41800862 1.22227524\n",
      "  1.5761527  0.63456494 0.32221875 0.51035887 0.3568985  1.14534246\n",
      "  1.26391603 1.27428072 0.6024595  1.19168772 0.35344    1.17495639\n",
      "  0.80773392 0.59284767 0.76464422 1.03564724 0.78852058 0.56943234\n",
      "  1.06254314 1.04611639 0.82741984 0.73660651 1.33841848 0.93383633\n",
      "  1.28296374 0.69354685 1.27783083 0.70921614]\n",
      " [0.54434386 0.59390888 0.65373334 0.36231805 0.98110427 0.97051386\n",
      "  0.64071239 0.37055782 0.35032685 0.9526138  0.54998662 1.28232777\n",
      "  1.36234757 0.48304172 0.26679643 0.35402038 0.17108097 1.12450495\n",
      "  0.81890508 1.16921786 0.79957576 0.97146797 0.33989061 0.59626075\n",
      "  0.86555736 0.68130905 1.03228519 0.44273534 0.53111884 0.61846827\n",
      "  0.88646656 0.79221512 1.04623349 0.46621995 1.09033509 0.52911184\n",
      "  1.08668821 0.54217854 0.84008226 0.89352057]]\n"
     ]
    }
   ],
   "execution_count": 126
  },
  {
   "cell_type": "markdown",
   "metadata": {
    "id": "rnt306LHhHrm"
   },
   "source": [
    "Проверьте своё решение"
   ]
  },
  {
   "cell_type": "code",
   "metadata": {
    "id": "Ewy_ZNYqW5a2",
    "colab": {
     "base_uri": "https://localhost:8080/",
     "height": 34
    },
    "outputId": "9ce264f2-9412-44e2-9b0a-cc780573ab3a",
    "ExecuteTime": {
     "end_time": "2024-05-17T12:43:01.592200Z",
     "start_time": "2024-05-17T12:43:01.583688Z"
    }
   },
   "source": [
    "# CHECK THE SOLUTION\n",
    "reference_solution = np.matmul(small_mat, big_mat)\n",
    "solution = MapReduce(RECORDREADER, MAP, REDUCE)\n",
    "\n",
    "def asmatrix(reduce_output):\n",
    "  reduce_output = list(reduce_output)\n",
    "  I = max(i for ((i,k), vw) in reduce_output)+1\n",
    "  K = max(k for ((i,k), vw) in reduce_output)+1\n",
    "  mat = np.empty(shape=(I,K))\n",
    "  for ((i,k), vw) in reduce_output:\n",
    "    mat[i,k] = vw\n",
    "  return mat\n",
    "\n",
    "np.allclose(reference_solution, asmatrix(solution)) # should return true"
   ],
   "outputs": [
    {
     "data": {
      "text/plain": [
       "True"
      ]
     },
     "execution_count": 127,
     "metadata": {},
     "output_type": "execute_result"
    }
   ],
   "execution_count": 127
  },
  {
   "cell_type": "code",
   "metadata": {
    "id": "TK7v4CEcfxqf",
    "colab": {
     "base_uri": "https://localhost:8080/",
     "height": 34
    },
    "outputId": "2c865d0a-4065-4e6b-c83f-5508ed5eb4fa",
    "ExecuteTime": {
     "end_time": "2024-05-17T12:43:01.645499Z",
     "start_time": "2024-05-17T12:43:01.639212Z"
    }
   },
   "source": [
    "reduce_output = list(MapReduce(RECORDREADER, MAP, REDUCE))\n",
    "max(i for ((i,k), vw) in reduce_output)"
   ],
   "outputs": [
    {
     "data": {
      "text/plain": [
       "1"
      ]
     },
     "execution_count": 128,
     "metadata": {},
     "output_type": "execute_result"
    }
   ],
   "execution_count": 128
  },
  {
   "cell_type": "markdown",
   "metadata": {
    "id": "i4yyg3kOZqJJ"
   },
   "source": [
    "Реализуйте перемножение матриц  с использованием модельного кода MapReduce для одной машины в случае, когда обе матрицы генерируются в RECORDREADER. Например, сначала одна, а потом другая."
   ]
  },
  {
   "cell_type": "code",
   "metadata": {
    "id": "3B7rIAJCaHZq",
    "ExecuteTime": {
     "end_time": "2024-05-17T12:43:01.723076Z",
     "start_time": "2024-05-17T12:43:01.708017Z"
    }
   },
   "source": [
    "import numpy as np\n",
    "from collections import defaultdict\n",
    "\n",
    "# Размеры матриц\n",
    "I = 2\n",
    "J = 3\n",
    "K = 4 * 10\n",
    "\n",
    "# Генерация матриц с использованием numpy\n",
    "M = np.random.rand(I, J)\n",
    "N = np.random.rand(J, K)\n",
    "\n",
    "# Функция RECORDREADER для генерации обеих матриц\n",
    "def RECORDREADER():\n",
    "  # Чтение первой матрицы M\n",
    "  for i in range(M.shape[0]):\n",
    "    for j in range(M.shape[1]):\n",
    "      yield ('M', (i, j, M[i, j]))\n",
    "\n",
    "  # Чтение второй матрицы N\n",
    "  for j in range(N.shape[0]):\n",
    "    for k in range(N.shape[1]):\n",
    "      yield ('N', (j, k, N[j, k]))\n",
    "\n",
    "# Функция MAP для перемножения матриц\n",
    "def MAP(key, value):\n",
    "  label, (x, y, v) = key, value\n",
    "\n",
    "  if label == 'M':\n",
    "    i, j, mij = x, y, v\n",
    "    for k in range(K):  # Генерируем пары для всех столбцов\n",
    "      yield ((i, k), ('M', j, mij))\n",
    "  elif label == 'N':\n",
    "    j, k, njk = x, y, v\n",
    "    for i in range(I):  # Генерируем пары для всех строк\n",
    "      yield ((i, k), ('N', j, njk))\n",
    "\n",
    "# Функция REDUCE для перемножения элементов матриц\n",
    "def REDUCE(key, values):\n",
    "  m_elements = {}\n",
    "  n_elements = {}\n",
    "\n",
    "  for label, idx, val in values:\n",
    "    if label == 'M':\n",
    "      m_elements[idx] = val\n",
    "    elif label == 'N':\n",
    "      n_elements[idx] = val\n",
    "\n",
    "  result = 0\n",
    "  for j in m_elements:\n",
    "    if j in n_elements:\n",
    "      result += m_elements[j] * n_elements[j]\n",
    "\n",
    "  yield (key, result)\n",
    "\n",
    "# Функция flatten для разворачивания вложенных списков\n",
    "def flatten(nested_iterable):\n",
    "  for iterable in nested_iterable:\n",
    "    for element in iterable:\n",
    "      yield element\n",
    "\n",
    "# Функция groupbykey для группировки значений по ключу\n",
    "def groupbykey(iterable):\n",
    "  grouped = defaultdict(list)\n",
    "  for (k2, v2) in iterable:\n",
    "    grouped[k2].append(v2)\n",
    "  return grouped.items()\n",
    "\n",
    "# Функция MapReduce\n",
    "def MapReduce(RECORDREADER, MAP, REDUCE):\n",
    "  return flatten(map(lambda x: REDUCE(*x), groupbykey(flatten(map(lambda x: MAP(*x), RECORDREADER())))))\n",
    "\n",
    "# Выполнение MapReduce для перемножения матриц\n",
    "output = MapReduce(RECORDREADER, MAP, REDUCE)\n",
    "final_result = list(output)\n",
    "\n",
    "# Преобразуем результат в numpy массив\n",
    "result = np.zeros((I, K))\n",
    "for ((i, k), value) in final_result:\n",
    "  result[i, k] = value\n",
    "\n",
    "print(\"Resulting Matrix P:\")\n",
    "print(result)"
   ],
   "outputs": [
    {
     "name": "stdout",
     "output_type": "stream",
     "text": [
      "Resulting Matrix P:\n",
      "[[0.44132547 0.63837578 0.28181828 0.45810148 0.2712535  0.3078513\n",
      "  0.12288188 0.14125358 0.48763706 0.57892861 0.44628637 0.38051695\n",
      "  0.27650911 0.52217286 0.18717489 0.40478612 0.74502857 0.43473919\n",
      "  0.41125028 0.4168957  0.47483787 0.51410015 0.35796236 0.51573554\n",
      "  0.18721301 0.11330107 0.2687599  0.17132594 0.53230741 0.41033101\n",
      "  0.56625092 0.58628379 0.37983701 0.21823606 0.16498484 0.32928377\n",
      "  0.56998549 0.61755381 0.43710259 0.27289418]\n",
      " [0.81635225 1.11104245 0.38862306 1.0776314  0.67682796 0.35872222\n",
      "  0.41422935 0.65331146 0.7257337  1.3762253  0.94782887 0.79461783\n",
      "  0.36360472 1.01360117 0.64037756 0.9600877  1.43359601 1.14437433\n",
      "  0.65377906 1.03787954 1.23435129 1.07946698 0.8913828  1.18946476\n",
      "  0.65277557 0.52595692 0.8335858  0.36490441 1.19948234 0.49194087\n",
      "  1.07739505 0.84977736 0.95493601 0.36861285 0.74967774 0.74799914\n",
      "  1.31930838 1.3500017  0.84201312 0.73093398]]\n"
     ]
    }
   ],
   "execution_count": 129
  },
  {
   "cell_type": "markdown",
   "metadata": {
    "id": "mXyzQi1DaIwo"
   },
   "source": [
    "Реализуйте перемножение матриц с использованием модельного кода MapReduce Distributed, когда каждая матрица генерируется в своём RECORDREADER."
   ]
  },
  {
   "cell_type": "code",
   "metadata": {
    "id": "TDM_s78Rb5eR",
    "ExecuteTime": {
     "end_time": "2024-05-17T12:43:01.770494Z",
     "start_time": "2024-05-17T12:43:01.754341Z"
    }
   },
   "source": [
    "import numpy as np\n",
    "from collections import defaultdict\n",
    "\n",
    "# Размеры матриц\n",
    "I = 2\n",
    "J = 3\n",
    "K = 4 * 10\n",
    "\n",
    "# Генерация матриц с использованием numpy\n",
    "M = np.random.rand(I, J)\n",
    "N = np.random.rand(J, K)\n",
    "\n",
    "# Функция RECORDREADER для чтения первой матрицы M\n",
    "def RECORDREADER_M():\n",
    "  for i in range(M.shape[0]):\n",
    "    for j in range(M.shape[1]):\n",
    "      yield ('M', (i, j, M[i, j]))\n",
    "\n",
    "# Функция RECORDREADER для чтения второй матрицы N\n",
    "def RECORDREADER_N():\n",
    "  for j in range(N.shape[0]):\n",
    "    for k in range(N.shape[1]):\n",
    "      yield ('N', (j, k, N[j, k]))\n",
    "\n",
    "# Функция flatten для разворачивания вложенных списков\n",
    "def flatten(nested_iterable):\n",
    "  for iterable in nested_iterable:\n",
    "    for element in iterable:\n",
    "      yield element\n",
    "\n",
    "# Функция groupbykey для группировки значений по ключу\n",
    "def groupbykey(iterable):\n",
    "  grouped = defaultdict(list)\n",
    "  for (k2, v2) in iterable:\n",
    "    grouped[k2].append(v2)\n",
    "  return grouped.items()\n",
    "\n",
    "# Функция MAP для матрицы M\n",
    "def MAP_M(key, value):\n",
    "  label, (i, j, mij) = key, value\n",
    "  for k in range(K):  # Проход по всем столбцам матрицы N\n",
    "    yield ((i, k), ('M', j, mij))\n",
    "\n",
    "# Функция MAP для матрицы N\n",
    "def MAP_N(key, value):\n",
    "  label, (j, k, njk) = key, value\n",
    "  for i in range(I):  # Проход по всем строкам матрицы M\n",
    "    yield ((i, k), ('N', j, njk))\n",
    "\n",
    "# Функция REDUCE для объединения пар элементов матриц\n",
    "def REDUCE(key, values):\n",
    "  m_elements = {}\n",
    "  n_elements = {}\n",
    "\n",
    "  for label, idx, val in values:\n",
    "    if label == 'M':\n",
    "      m_elements[idx] = val\n",
    "    elif label == 'N':\n",
    "      n_elements[idx] = val\n",
    "\n",
    "  result = 0\n",
    "  for j in m_elements:\n",
    "    if j in n_elements:\n",
    "      result += m_elements[j] * n_elements[j]\n",
    "\n",
    "  yield (key, result)\n",
    "\n",
    "# Функция MapReduce для объединения данных из двух RECORDREADERS\n",
    "def MapReduce_Dual(RECORDREADER_1, RECORDREADER_2, MAP_1, MAP_2, REDUCE):\n",
    "  map_output_1 = flatten(map(lambda x: MAP_1(*x), RECORDREADER_1()))\n",
    "  map_output_2 = flatten(map(lambda x: MAP_2(*x), RECORDREADER_2()))\n",
    "  shuffle_output = groupbykey(flatten([map_output_1, map_output_2]))\n",
    "  reduce_output = flatten(map(lambda x: REDUCE(*x), shuffle_output))\n",
    "  return reduce_output\n",
    "\n",
    "# Выполнение MapReduce для перемножения матриц\n",
    "output = MapReduce_Dual(RECORDREADER_M, RECORDREADER_N, MAP_M, MAP_N, REDUCE)\n",
    "final_result = list(output)\n",
    "\n",
    "# Преобразуем результат в numpy массив\n",
    "result = np.zeros((I, K))\n",
    "for ((i, k), value) in final_result:\n",
    "  result[i, k] = value\n",
    "\n",
    "print(\"Resulting Matrix P:\")\n",
    "print(result)"
   ],
   "outputs": [
    {
     "name": "stdout",
     "output_type": "stream",
     "text": [
      "Resulting Matrix P:\n",
      "[[0.28009127 0.46426341 0.56609324 0.26119633 0.03777006 0.83076508\n",
      "  0.75200157 0.30085162 0.77109818 0.61759607 0.35171347 0.6283101\n",
      "  0.69916692 0.84308084 0.81547412 0.51381594 0.79467067 0.74283153\n",
      "  0.9470885  1.18290131 0.67403221 0.63304156 0.91867352 0.93415733\n",
      "  0.84799752 0.56378341 0.99636798 0.29811095 0.58893762 0.63162706\n",
      "  0.66032358 0.77867565 0.52054541 1.14907653 1.0803194  0.68742623\n",
      "  0.79644498 0.64760762 0.70669825 0.96787373]\n",
      " [0.20906926 0.42275258 0.5687427  0.17672481 0.03662875 0.64143621\n",
      "  0.67596641 0.22172287 0.75524708 0.4536242  0.29269473 0.61373173\n",
      "  0.52588806 0.70817357 0.58166477 0.47188072 0.62088606 0.68812268\n",
      "  0.71244002 0.94965832 0.42811147 0.47473735 0.72168512 0.75116891\n",
      "  0.66993895 0.33537849 0.79948243 0.24343265 0.5058955  0.62005972\n",
      "  0.49487026 0.70376963 0.52836955 0.92922395 0.86524747 0.44602764\n",
      "  0.6670271  0.54748399 0.48602166 0.71479006]]\n"
     ]
    }
   ],
   "execution_count": 130
  },
  {
   "cell_type": "markdown",
   "metadata": {
    "id": "ZuSA2P9Db6UM"
   },
   "source": [
    "Обобщите предыдущее решение на случай, когда каждая матрица генерируется несколькими RECORDREADER-ами, и проверьте его работоспособность. Будет ли работать решение, если RECORDREADER-ы будут генерировать случайное подмножество элементов матрицы?"
   ]
  },
  {
   "cell_type": "code",
   "metadata": {
    "id": "ehN0FqRDcwU5",
    "ExecuteTime": {
     "end_time": "2024-05-17T12:43:01.835309Z",
     "start_time": "2024-05-17T12:43:01.817375Z"
    }
   },
   "source": [
    "import numpy as np\n",
    "from collections import defaultdict\n",
    "from itertools import chain\n",
    "import random\n",
    "\n",
    "# Размеры матриц\n",
    "I = 2\n",
    "J = 3\n",
    "K = 4 * 10\n",
    "\n",
    "# Генерация матриц с использованием numpy\n",
    "M = np.random.rand(I, J)\n",
    "N = np.random.rand(J, K)\n",
    "\n",
    "# Определение случайного подмножества элементов для матрицы M\n",
    "def RECORDREADER_M1():\n",
    "  indices = random.sample(range(I * J), k=int(I * J * 0.5))\n",
    "  for index in indices:\n",
    "    i, j = divmod(index, J)\n",
    "    yield ('M', (i, j, M[i, j]))\n",
    "\n",
    "def RECORDREADER_M2():\n",
    "  indices = random.sample(range(I * J), k=int(I * J * 0.5))\n",
    "  for index in indices:\n",
    "    i, j = divmod(index, J)\n",
    "    yield ('M', (i, j, M[i, j]))\n",
    "\n",
    "# Определение случайного подмножества элементов для матрицы N\n",
    "def RECORDREADER_N1():\n",
    "  indices = random.sample(range(J * K), k=int(J * K * 0.5))\n",
    "  for index in indices:\n",
    "    j, k = divmod(index, K)\n",
    "    yield ('N', (j, k, N[j, k]))\n",
    "\n",
    "def RECORDREADER_N2():\n",
    "  indices = random.sample(range(J * K), k=int(J * K * 0.5))\n",
    "  for index in indices:\n",
    "    j, k = divmod(index, K)\n",
    "    yield ('N', (j, k, N[j, k]))\n",
    "\n",
    "# Функция flatten для разворачивания вложенных списков\n",
    "def flatten(nested_iterable):\n",
    "  for iterable in nested_iterable:\n",
    "    for element in iterable:\n",
    "      yield element\n",
    "\n",
    "# Функция groupbykey для группировки значений по ключу\n",
    "def groupbykey(iterable):\n",
    "  grouped = defaultdict(list)\n",
    "  for (k2, v2) in iterable:\n",
    "    grouped[k2].append(v2)\n",
    "  return grouped.items()\n",
    "\n",
    "# Функция MAP для матрицы M\n",
    "def MAP_M(key, value):\n",
    "  label, (i, j, mij) = key, value\n",
    "  for k in range(K):  # Проход по всем столбцам матрицы N\n",
    "    yield ((i, k), ('M', j, mij))\n",
    "\n",
    "# Функция MAP для матрицы N\n",
    "def MAP_N(key, value):\n",
    "  label, (j, k, njk) = key, value\n",
    "  for i in range(I):  # Проход по всем строкам матрицы M\n",
    "    yield ((i, k), ('N', j, njk))\n",
    "\n",
    "# Функция REDUCE для объединения пар элементов матриц\n",
    "def REDUCE(key, values):\n",
    "  m_elements = {}\n",
    "  n_elements = {}\n",
    "\n",
    "  for label, idx, val in values:\n",
    "    if label == 'M':\n",
    "      m_elements[idx] = val\n",
    "    elif label == 'N':\n",
    "      n_elements[idx] = val\n",
    "\n",
    "  result = 0\n",
    "  for j in m_elements:\n",
    "    if j in n_elements:\n",
    "      result += m_elements[j] * n_elements[j]\n",
    "\n",
    "  yield (key, result)\n",
    "\n",
    "# Функция MapReduce для объединения данных из нескольких RECORDREADER-ов\n",
    "def MapReduce_Multi(RECORDREADERS, MAPS, REDUCE):\n",
    "  map_outputs = flatten(map(lambda x: MAPS[0](*x), RECORDREADERS[0]()))\n",
    "  for i in range(1, len(RECORDREADERS)):\n",
    "    map_outputs = chain(map_outputs, flatten(map(lambda x: MAPS[i](*x), RECORDREADERS[i]())))\n",
    "  shuffle_output = groupbykey(map_outputs)\n",
    "  reduce_output = flatten(map(lambda x: REDUCE(*x), shuffle_output))\n",
    "  return reduce_output\n",
    "\n",
    "# Список RECORDREADERS и MAP-функций\n",
    "RECORDREADERS = [RECORDREADER_M1, RECORDREADER_M2, RECORDREADER_N1, RECORDREADER_N2]\n",
    "MAPS = [MAP_M, MAP_M, MAP_N, MAP_N]\n",
    "\n",
    "# Выполнение MapReduce для перемножения матриц\n",
    "output = MapReduce_Multi(RECORDREADERS, MAPS, REDUCE)\n",
    "final_result = list(output)\n",
    "\n",
    "# Преобразуем результат в numpy массив\n",
    "result = np.zeros((I, K))\n",
    "for ((i, k), value) in final_result:\n",
    "  result[i, k] = value\n",
    "\n",
    "print(\"Resulting Matrix P:\")\n",
    "print(result)"
   ],
   "outputs": [
    {
     "name": "stdout",
     "output_type": "stream",
     "text": [
      "Resulting Matrix P:\n",
      "[[0.00000000e+00 7.51813272e-01 4.51070200e-01 8.75509397e-01\n",
      "  6.21586701e-01 5.50947182e-01 4.78641538e-01 3.62152619e-04\n",
      "  0.00000000e+00 0.00000000e+00 2.77256358e-01 5.14044137e-01\n",
      "  8.76720275e-01 7.06463173e-01 8.83296649e-02 0.00000000e+00\n",
      "  2.80758122e-01 6.62291395e-01 0.00000000e+00 0.00000000e+00\n",
      "  1.11275327e-01 7.23289761e-01 2.50450818e-01 5.00240558e-01\n",
      "  2.00282983e-01 7.63353348e-01 5.76768868e-01 0.00000000e+00\n",
      "  2.84377180e-01 7.68841853e-01 7.90034057e-02 0.00000000e+00\n",
      "  9.39042418e-01 2.37598263e-02 0.00000000e+00 3.07952350e-01\n",
      "  0.00000000e+00 0.00000000e+00 8.77249507e-01 0.00000000e+00]\n",
      " [5.29877850e-01 9.77019320e-01 1.10797055e+00 8.85652841e-01\n",
      "  6.53075875e-01 7.48896634e-01 7.44457335e-01 4.65476640e-01\n",
      "  7.72719192e-01 2.54768544e-01 3.89619034e-01 4.48611407e-01\n",
      "  1.46281057e+00 6.16569768e-01 6.68150650e-01 1.77335238e-01\n",
      "  8.54505649e-01 5.77988256e-01 2.04322254e-02 0.00000000e+00\n",
      "  6.65325926e-01 6.31222134e-01 3.23209634e-01 1.09931704e+00\n",
      "  9.20705709e-01 1.10343639e+00 6.80198068e-01 3.94568007e-01\n",
      "  4.21019488e-01 9.07932186e-01 6.89470542e-02 0.00000000e+00\n",
      "  1.00622283e+00 7.89418532e-01 2.66637193e-01 2.68753064e-01\n",
      "  4.55207560e-01 5.69614198e-01 1.33834334e+00 6.64206305e-01]]\n"
     ]
    }
   ],
   "execution_count": 131
  }
 ]
}
